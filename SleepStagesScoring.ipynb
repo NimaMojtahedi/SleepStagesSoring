{
 "cells": [
  {
   "cell_type": "markdown",
   "metadata": {},
   "source": [
    "# Advanced Data science Specialization IBM Capstone Project\n",
    "\n",
    "\n",
    "## Project Title: Sleep Stages Scoring\n",
    "\n"
   ]
  },
  {
   "cell_type": "markdown",
   "metadata": {},
   "source": [
    "This is a notebook for ETL, Train and Evaluation of data and results"
   ]
  },
  {
   "cell_type": "code",
   "execution_count": 1,
   "metadata": {},
   "outputs": [],
   "source": [
    "# all necessary imports\n",
    "import tensorflow as tf\n",
    "import numpy as np\n",
    "from matplotlib import pyplot as plt\n",
    "import pandas as pd\n",
    "import h5py\n",
    "from scipy.stats import zscore\n",
    "\n",
    "#from tensorflow import keras as k\n",
    "from tensorflow.keras.layers import ConvLSTM2D\n",
    "from tensorflow.keras.layers import Dense, Dropout,  Flatten, Reshape,  Input, Bidirectional, LSTM,  GRU\n",
    "from tensorflow.keras.layers import MaxPool1D, Conv1D, Activation\n",
    "from tensorflow.keras.utils import to_categorical\n",
    "from tensorflow.keras import regularizers\n",
    "from tensorflow.keras.layers import BatchNormalization\n",
    "from tensorflow.keras.models import Model"
   ]
  },
  {
   "cell_type": "code",
   "execution_count": 2,
   "metadata": {},
   "outputs": [
    {
     "data": {
      "text/plain": [
       "gpu_options {\n",
       "  per_process_gpu_memory_fraction: 0.8\n",
       "}\n",
       "allow_soft_placement: true"
      ]
     },
     "execution_count": 2,
     "metadata": {},
     "output_type": "execute_result"
    }
   ],
   "source": [
    "tf.compat.v1.ConfigProto(\n",
    "gpu_options=tf.compat.v1.GPUOptions(per_process_gpu_memory_fraction=0.8),\n",
    "  allow_soft_placement=True)"
   ]
  },
  {
   "cell_type": "markdown",
   "metadata": {},
   "source": [
    "### ETL\n",
    "\n",
    "#### Helper fuctions"
   ]
  },
  {
   "cell_type": "code",
   "execution_count": 2,
   "metadata": {},
   "outputs": [],
   "source": [
    "def eeg_reader(data_path, label_path, label_ratio, orders):\n",
    "    df = pd.read_csv(label_path, \n",
    "                 delimiter = '\\t',header = None)\n",
    "    labels = df.iloc[1:,1].values.astype(float)\n",
    "    print(labels.shape)\n",
    "    \n",
    "    # upsampling labels\n",
    "    ratio_ = label_ratio\n",
    "    labels_ = np.zeros(len(labels) * ratio_)\n",
    "\n",
    "    for i in range(ratio_):\n",
    "        labels_[i::ratio_] = labels\n",
    "\n",
    "    labels = labels_\n",
    "    print('upsampled label size',labels.shape)\n",
    "    \n",
    "    # provide epoch_length\n",
    "    epoch_length = int(1e4 / ratio_ )\n",
    "    print('epoch_length', epoch_length, ', each epoch has 1 label')\n",
    "    \n",
    "    # correcting labels\n",
    "    labels[labels==8] = 0\n",
    "    print('labels corrected')\n",
    "    \n",
    "    # label info\n",
    "    print('before correcting labels')\n",
    "    print('1->', 'awake  |', '3->', 'REM   |' , '2->', 'sw  |',  '8->', 'artifact')\n",
    "    print('after correcting labels')\n",
    "    print('1->', 'awake  |', '3->', 'REM   |' , '2->', 'sw  |',  '0->', 'artifact')\n",
    "    \n",
    "    F = h5py.File(data_path)\n",
    "    list(F.keys())\n",
    "    CH1 = F[list(F.keys())[0]]['values']\n",
    "    CH2 = F[list(F.keys())[1]]['values']\n",
    "    CH3 = F[list(F.keys())[2]]['values']\n",
    "    print('CH1', CH1.shape, 'CH2', CH2.shape, 'CH3', CH3.shape)\n",
    "    signals = np.concatenate((CH1, CH2, CH3), axis = 0)\n",
    "    print('concatinated shape', signals.shape)\n",
    "    signals = np.array(signals.T)\n",
    "    signals = signals[:,orders]\n",
    "    print('final shape', signals.shape)\n",
    "\n",
    "    print('adjusting signal length to label length')\n",
    "    nr_epochs = int(np.floor(signals.shape[0] / epoch_length))\n",
    "    signals = signals[0:int(nr_epochs * epoch_length),:]\n",
    "    labels = labels[0:nr_epochs]\n",
    "    print('nr of epochs ', nr_epochs, ' and adjusted signals length ', signals.shape[0])\n",
    "    \n",
    "    nr_classes = len(np.unique(labels))\n",
    "    print('detected nr of classes', nr_classes)\n",
    "\n",
    "    nr_features = signals.shape[1]\n",
    "    print('detected nr of features', nr_features)\n",
    "\n",
    "    print('creating aux_data')\n",
    "\n",
    "    \n",
    "    # make auxiliary data\n",
    "    data_aux, dim0, t, f = make_aux_data(zscore(signals), epoch_length, labels)\n",
    "    \n",
    "    return data_aux, labels, epoch_length, nr_classes, t, f, signals\n",
    "    \n",
    "    \n",
    "    \n",
    "def make_aux_data(data, epoch_length, labels):\n",
    "    # reshapeing data to fixed length size\n",
    "    length = epoch_length # \n",
    "    #labels = y_train[0:3529]\n",
    "    #data = signals\n",
    "    print('full time length', data.shape[0], '   batch length', length, '   nr of features', data.shape[1])\n",
    "    \"\"\"\n",
    "    Hint\n",
    "    Input shape\n",
    "    inputs: A 3D tensor with shape [batch, timesteps, feature]\n",
    "    \"\"\"\n",
    "\n",
    "    # start transforming data to 3D tensor\n",
    "\n",
    "    t, f = data.shape\n",
    "\n",
    "    dim_0 = np.min([np.int(np.floor(data.shape[0] / length)), len(labels)])\n",
    "    print('optimal zero dimension', dim_0)\n",
    "    data_aux = np.zeros((dim_0, length, f))\n",
    "    print('auxilary data initial size', data_aux.shape)\n",
    "    for i in range(dim_0):\n",
    "      data_aux[i] = data[i * length:i * length + length]\n",
    "\n",
    "    print('auxilary data final size', data_aux.shape, '  labels final size', labels.shape)\n",
    "    if data_aux.shape[0] !=len(labels):\n",
    "      raise NameError('label length is different than batch nr in data' )\n",
    "    \n",
    "    return data_aux, dim_0, t, f"
   ]
  },
  {
   "cell_type": "markdown",
   "metadata": {},
   "source": [
    "#### Loading data\n",
    "\n",
    "Here I take data from local disk"
   ]
  },
  {
   "cell_type": "code",
   "execution_count": 108,
   "metadata": {
    "scrolled": true
   },
   "outputs": [
    {
     "name": "stdout",
     "output_type": "stream",
     "text": [
      "(1625,)\n",
      "upsampled label size (1625,)\n",
      "epoch_length 10000 , each epoch has 1 label\n",
      "labels corrected\n",
      "before correcting labels\n",
      "1-> awake  | 3-> REM   | 2-> sw  | 8-> artifact\n",
      "after correcting labels\n",
      "1-> awake  | 3-> REM   | 2-> sw  | 0-> artifact\n",
      "CH1 (1, 16251999) CH2 (1, 16251999) CH3 (1, 16251999)\n"
     ]
    },
    {
     "name": "stderr",
     "output_type": "stream",
     "text": [
      "c:\\users\\admin\\anaconda3\\envs\\tf2.0.0\\lib\\site-packages\\ipykernel_launcher.py:31: H5pyDeprecationWarning: The default file mode will change to 'r' (read-only) in h5py 3.0. To suppress this warning, pass the mode you need to h5py.File(), or set the global default h5.get_config().default_file_mode, or set the environment variable H5PY_DEFAULT_READONLY=1. Available modes are: 'r', 'r+', 'w', 'w-'/'x', 'a'. See the docs for details.\n"
     ]
    },
    {
     "name": "stdout",
     "output_type": "stream",
     "text": [
      "concatinated shape (3, 16251999)\n",
      "final shape (16251999, 3)\n",
      "adjusting signal length to label length\n",
      "nr of epochs  1625  and adjusted signals length  16250000\n",
      "detected nr of classes 4\n",
      "detected nr of features 3\n",
      "creating aux_data\n",
      "full time length 16250000    batch length 10000    nr of features 3\n",
      "optimal zero dimension 1625\n",
      "auxilary data initial size (1625, 10000, 3)\n",
      "auxilary data final size (1625, 10000, 3)   labels final size (1625,)\n",
      "%%%%%%%%%%%%%%%%%%%%%%%%%%%%%%%%%%%%%%%%%%%%%%%%%%%%%%%%%%%%%%%%%%%%%%%%%%%%%%%%%%%%%%%%%%%%%%%%%%%%\n",
      "(1226,)\n",
      "upsampled label size (1226,)\n",
      "epoch_length 10000 , each epoch has 1 label\n",
      "labels corrected\n",
      "before correcting labels\n",
      "1-> awake  | 3-> REM   | 2-> sw  | 8-> artifact\n",
      "after correcting labels\n",
      "1-> awake  | 3-> REM   | 2-> sw  | 0-> artifact\n",
      "CH1 (1, 12265000) CH2 (1, 12265000) CH3 (1, 12265000)\n",
      "concatinated shape (3, 12265000)\n",
      "final shape (12265000, 3)\n",
      "adjusting signal length to label length\n",
      "nr of epochs  1226  and adjusted signals length  12260000\n",
      "detected nr of classes 4\n",
      "detected nr of features 3\n",
      "creating aux_data\n",
      "full time length 12260000    batch length 10000    nr of features 3\n",
      "optimal zero dimension 1226\n",
      "auxilary data initial size (1226, 10000, 3)\n",
      "auxilary data final size (1226, 10000, 3)   labels final size (1226,)\n",
      "%%%%%%%%%%%%%%%%%%%%%%%%%%%%%%%%%%%%%%%%%%%%%%%%%%%%%%%%%%%%%%%%%%%%%%%%%%%%%%%%%%%%%%%%%%%%%%%%%%%%\n",
      "(1513,)\n",
      "upsampled label size (1513,)\n",
      "epoch_length 10000 , each epoch has 1 label\n",
      "labels corrected\n",
      "before correcting labels\n",
      "1-> awake  | 3-> REM   | 2-> sw  | 8-> artifact\n",
      "after correcting labels\n",
      "1-> awake  | 3-> REM   | 2-> sw  | 0-> artifact\n",
      "CH1 (1, 15126000) CH2 (1, 15126000) CH3 (1, 15126000)\n",
      "concatinated shape (3, 15126000)\n",
      "final shape (15126000, 3)\n",
      "adjusting signal length to label length\n",
      "nr of epochs  1512  and adjusted signals length  15120000\n",
      "detected nr of classes 3\n",
      "detected nr of features 3\n",
      "creating aux_data\n",
      "full time length 15120000    batch length 10000    nr of features 3\n",
      "optimal zero dimension 1512\n",
      "auxilary data initial size (1512, 10000, 3)\n",
      "auxilary data final size (1512, 10000, 3)   labels final size (1512,)\n",
      "%%%%%%%%%%%%%%%%%%%%%%%%%%%%%%%%%%%%%%%%%%%%%%%%%%%%%%%%%%%%%%%%%%%%%%%%%%%%%%%%%%%%%%%%%%%%%%%%%%%%\n",
      "(1517,)\n",
      "upsampled label size (1517,)\n",
      "epoch_length 10000 , each epoch has 1 label\n",
      "labels corrected\n",
      "before correcting labels\n",
      "1-> awake  | 3-> REM   | 2-> sw  | 8-> artifact\n",
      "after correcting labels\n",
      "1-> awake  | 3-> REM   | 2-> sw  | 0-> artifact\n",
      "CH1 (1, 15172000) CH2 (1, 15172000) CH3 (1, 15172000)\n",
      "concatinated shape (3, 15172000)\n",
      "final shape (15172000, 3)\n",
      "adjusting signal length to label length\n",
      "nr of epochs  1517  and adjusted signals length  15170000\n",
      "detected nr of classes 4\n",
      "detected nr of features 3\n",
      "creating aux_data\n",
      "full time length 15170000    batch length 10000    nr of features 3\n",
      "optimal zero dimension 1517\n",
      "auxilary data initial size (1517, 10000, 3)\n",
      "auxilary data final size (1517, 10000, 3)   labels final size (1517,)\n",
      "%%%%%%%%%%%%%%%%%%%%%%%%%%%%%%%%%%%%%%%%%%%%%%%%%%%%%%%%%%%%%%%%%%%%%%%%%%%%%%%%%%%%%%%%%%%%%%%%%%%%\n",
      "(1989,)\n",
      "upsampled label size (1989,)\n",
      "epoch_length 10000 , each epoch has 1 label\n",
      "labels corrected\n",
      "before correcting labels\n",
      "1-> awake  | 3-> REM   | 2-> sw  | 8-> artifact\n",
      "after correcting labels\n",
      "1-> awake  | 3-> REM   | 2-> sw  | 0-> artifact\n",
      "CH1 (1, 19889999) CH2 (1, 19889999) CH3 (1, 19889999)\n",
      "concatinated shape (3, 19889999)\n",
      "final shape (19889999, 3)\n",
      "adjusting signal length to label length\n",
      "nr of epochs  1988  and adjusted signals length  19880000\n",
      "detected nr of classes 4\n",
      "detected nr of features 3\n",
      "creating aux_data\n",
      "full time length 19880000    batch length 10000    nr of features 3\n",
      "optimal zero dimension 1988\n",
      "auxilary data initial size (1988, 10000, 3)\n",
      "auxilary data final size (1988, 10000, 3)   labels final size (1988,)\n",
      "%%%%%%%%%%%%%%%%%%%%%%%%%%%%%%%%%%%%%%%%%%%%%%%%%%%%%%%%%%%%%%%%%%%%%%%%%%%%%%%%%%%%%%%%%%%%%%%%%%%%\n",
      "%%%%%%%%%%%%%%%%%%%%%%%%%%%%%%%%%%%%%%%%%%%%%%%%%%%%%%%%%%%%%%%%%%%%%%%%%%%%%%%%%%%%%%%%%%%%%%%%%%%%\n",
      "(1411,)\n",
      "upsampled label size (1411,)\n",
      "epoch_length 10000 , each epoch has 1 label\n",
      "labels corrected\n",
      "before correcting labels\n",
      "1-> awake  | 3-> REM   | 2-> sw  | 8-> artifact\n",
      "after correcting labels\n",
      "1-> awake  | 3-> REM   | 2-> sw  | 0-> artifact\n",
      "CH1 (1, 14108000) CH2 (1, 14108000) CH3 (1, 14108000)\n",
      "concatinated shape (3, 14108000)\n",
      "final shape (14108000, 3)\n",
      "adjusting signal length to label length\n",
      "nr of epochs  1410  and adjusted signals length  14100000\n",
      "detected nr of classes 4\n",
      "detected nr of features 3\n",
      "creating aux_data\n",
      "full time length 14100000    batch length 10000    nr of features 3\n",
      "optimal zero dimension 1410\n",
      "auxilary data initial size (1410, 10000, 3)\n",
      "auxilary data final size (1410, 10000, 3)   labels final size (1410,)\n",
      "%%%%%%%%%%%%%%%%%%%%%%%%%%%%%%%%%%%%%%%%%%%%%%%%%%%%%%%%%%%%%%%%%%%%%%%%%%%%%%%%%%%%%%%%%%%%%%%%%%%%\n",
      "%%%%%%%%%%%%%%%%%%%%%%%%%%%%%%%%%%%%%%%%%%%%%%%%%%%%%%%%%%%%%%%%%%%%%%%%%%%%%%%%%%%%%%%%%%%%%%%%%%%%\n"
     ]
    }
   ],
   "source": [
    "# define path and load\n",
    "data_path1 = 'I:/Marco/Sleep scoring/gcamp7_3_23_08_19/gcamp7m3_230819_filtered.mat'\n",
    "label_path1 = 'I:/Marco/Sleep scoring/gcamp7_3_23_08_19/gcamp7m3_23_08_19_scoring_tot.txt'\n",
    "\n",
    "data_path2 = 'I:/Marco/Sleep scoring/mpeegm17_19_05_10/mpeegm17_19_05_10.mat'\n",
    "label_path2 = 'I:/Marco/Sleep scoring/mpeegm17_19_05_10/mpeegm17_19_05_10_tot.txt'\n",
    "\n",
    "data_path3 = 'I:/Marco/Sleep scoring/gcamp7_m3_27_08_19/gcamp7_m3_m3_270819_filtered.mat'\n",
    "label_path3 = 'I:/Marco/Sleep scoring/gcamp7_m3_27_08_19/gcamp7m3_27_08_19_scoring_tot.txt'\n",
    "\n",
    "data_path4 = 'I:/Marco/Sleep scoring/gcamp7m2_19_07_17/gcamp7m2_19_07_17_filtered.mat'\n",
    "label_path4 = 'I:/Marco/Sleep scoring/gcamp7m2_19_07_17/gcamp7m2_190717_tot.txt'\n",
    "\n",
    "data_path5 = 'I:/Marco/Sleep scoring/gcamp7_m3_30_08_19/gcamp7m3_300819_filtered.mat'\n",
    "label_path5 = 'I:/Marco/Sleep scoring/gcamp7_m3_30_08_19/gcamp7m3_30_08_19_scoring_tot.txt'\n",
    "\n",
    "#data_path6 = 'I:/Marco/Sleep scoring/mouse3_18_11_13/mouse3_18_11_13_filtered_1.mat'\n",
    "#label_path6 = 'I:/Marco/Sleep scoring/mouse3_18_11_13/mouse_3_18_11_13_1_tot.txt'\n",
    "\n",
    "data_path7 = 'I:/Marco/Sleep scoring/gcamp7m3_19_08_21/gcamp7m3_19_08_21_filtered.mat'\n",
    "label_path7 = 'I:/Marco/Sleep scoring/gcamp7m3_19_08_21/gcamp7m3_190821_scoring_tot.txt'\n",
    "\n",
    "#data_path8 = 'I:/Marco/Sleep scoring/mouse3_18_11_13/mouse3_18_11_13_filtered_2.mat'\n",
    "#label_path8 = 'I:/Marco/Sleep scoring/mouse3_18_11_13/mouse3_18_11_13_2_tot.txt'\n",
    "\n",
    "#data_path9 = 'I:/Marco/Sleep scoring/mouse3_18_11_13/mouse3_18_11_13_filtered3.mat'\n",
    "#label_path9 = 'I:/Marco/Sleep scoring/mouse3_18_11_13/mouse3_18_11_13_3_tot.txt'\n",
    "\n",
    "data_aux1, labels1, epoch_length, nr_classes, t1, f, signals1 = eeg_reader(data_path1, label_path1, 1, [0, 1, 2])\n",
    "print('%'*100)\n",
    "data_aux2, labels2, epoch_length, nr_classes, t2, f, signals2 = eeg_reader(data_path2, label_path2, 1, [1, 2, 0])\n",
    "print('%'*100)\n",
    "data_aux3, labels3, epoch_length, nr_classes, t3, f, signals3 = eeg_reader(data_path3, label_path3, 1, [1, 2, 0])\n",
    "print('%'*100)\n",
    "data_aux4, labels4, epoch_length, nr_classes, t4, f, signals4 = eeg_reader(data_path4, label_path4, 1, [1, 2, 0])\n",
    "print('%'*100)\n",
    "data_aux5, labels5, epoch_length, nr_classes, t5, f, signals5 = eeg_reader(data_path5, label_path5, 1, [0, 1, 2])\n",
    "print('%'*100)\n",
    "#data_aux6, labels6, epoch_length, nr_classes, t6, f, signals6 = eeg_reader(data_path6, label_path6, 1)\n",
    "print('%'*100)\n",
    "data_aux7, labels7, epoch_length, nr_classes, t7, f, signals7 = eeg_reader(data_path7, label_path7, 1, [1, 2, 0])\n",
    "print('%'*100)\n",
    "#data_aux8, labels8, epoch_length, nr_classes, t8, f, signals8 = eeg_reader(data_path8, label_path8, 1)\n",
    "print('%'*100)\n",
    "#data_aux9, labels9, epoch_length, nr_classes, t9, f, signals9 = eeg_reader(data_path5, label_path9, 1)\n"
   ]
  },
  {
   "cell_type": "markdown",
   "metadata": {},
   "source": [
    "### Data visualization"
   ]
  },
  {
   "cell_type": "code",
   "execution_count": 104,
   "metadata": {},
   "outputs": [
    {
     "data": {
      "image/png": "[encoded data removed]",
      "text/plain": [
       "<Figure size 720x576 with 3 Axes>"
      ]
     },
     "metadata": {
      "needs_background": "light"
     },
     "output_type": "display_data"
    }
   ],
   "source": [
    "plt.figure(figsize=(10,8))\n",
    "for i in range(3):\n",
    "    plt.subplot(3,1,i+1)\n",
    "    plt.plot(np.linspace(0,5, 50000), signals1[0:50000, i])\n",
    "    plt.ylabel('Amplitude (mv)')\n",
    "    plt.title('channel ' + str(i+1))\n",
    "    if i==2:\n",
    "        plt.xlabel('Time (sec)')"
   ]
  },
  {
   "cell_type": "code",
   "execution_count": 109,
   "metadata": {},
   "outputs": [
    {
     "name": "stdout",
     "output_type": "stream",
     "text": [
      "full data set shape,  (9278, 10000, 3)   full labels shape,  (9278,)\n",
      "data in hour  25.772222222222222\n"
     ]
    }
   ],
   "source": [
    "# concatenating several datasets\n",
    "full_aux_data = np.concatenate((data_aux1, data_aux2, data_aux3, \n",
    "                                data_aux4, data_aux5,  data_aux7 \n",
    "                                ), axis = 0)\n",
    "full_labels = np.concatenate((labels1, labels2, labels3, labels4, \n",
    "                              labels5,  labels7))\n",
    "print('full data set shape, ', full_aux_data.shape, '  full labels shape, ', full_labels.shape)\n",
    "print('data in hour ', full_aux_data.shape[0]/360)"
   ]
  },
  {
   "cell_type": "markdown",
   "metadata": {},
   "source": [
    "#### Checking distribution of classes"
   ]
  },
  {
   "cell_type": "code",
   "execution_count": 110,
   "metadata": {},
   "outputs": [
    {
     "data": {
      "image/png": "[encoded data removed]",
      "text/plain": [
       "<Figure size 576x288 with 1 Axes>"
      ]
     },
     "metadata": {
      "needs_background": "light"
     },
     "output_type": "display_data"
    }
   ],
   "source": [
    "plt.figure(figsize=(8,4))\n",
    "\n",
    "plt.hist(full_labels, density=True);\n",
    "plt.ylabel('Normalized count')\n",
    "plt.xlabel('Classes')\n",
    "plt.title('Distribution of classes in full dataset');\n",
    "plt.xticks([0, 0.5, 1.0, 1.5, 2.0, 2.5, 3.0],['artifact', '', 'awake', '', 'slow-wave', '', 'REM'])\n",
    "plt.show()"
   ]
  },
  {
   "cell_type": "markdown",
   "metadata": {},
   "source": [
    "As it clear the number of classes are not equal and we have unbalance dataset.   \n",
    "To handle this problem I use sampling technique to create balance dataset.   \n",
    "   \n",
    "For our data I do random undersampling for classes awake and slow-wave   \n",
    "\n",
    "The labels indicating classes are,   \n",
    "1-> awake  | 3-> REM   | 2-> sw  | 0-> artifact"
   ]
  },
  {
   "cell_type": "code",
   "execution_count": 111,
   "metadata": {},
   "outputs": [
    {
     "name": "stdout",
     "output_type": "stream",
     "text": [
      "nr of awake labels 7175\n",
      "nr of sw labels 1606\n",
      "nr of REM labels 274\n",
      "nr of artifact labels 223\n"
     ]
    }
   ],
   "source": [
    "print('nr of awake labels %d\\nnr of sw labels %d\\nnr of REM labels %d\\nnr of artifact labels %d' \n",
    "      %(np.where(full_labels==1)[0].shape[0], np.where(full_labels==2)[0].shape[0],np.where(full_labels==3)[0].shape[0],\n",
    "       np.where(full_labels==0)[0].shape[0]))"
   ]
  },
  {
   "cell_type": "code",
   "execution_count": 112,
   "metadata": {},
   "outputs": [],
   "source": [
    "# small helper function for sampling\n",
    "import random\n",
    "def sampler_(data, nr):\n",
    "    \n",
    "    return random.sample(list(data[0]),nr)"
   ]
  },
  {
   "cell_type": "code",
   "execution_count": 113,
   "metadata": {},
   "outputs": [],
   "source": [
    "temp_index1 = sampler_(np.where(full_labels==1),400)\n",
    "temp_index2 = sampler_(np.where(full_labels==2),400)\n",
    "\n",
    "new_data = np.concatenate((full_aux_data[full_labels==0], \n",
    "                          full_aux_data[full_labels==3],\n",
    "                          full_aux_data[temp_index1],\n",
    "                          full_aux_data[temp_index2]))\n",
    "\n",
    "new_labels = np.concatenate((full_labels[full_labels==0], \n",
    "                          full_labels[full_labels==3],\n",
    "                          full_labels[temp_index1],\n",
    "                          full_labels[temp_index2]))"
   ]
  },
  {
   "cell_type": "code",
   "execution_count": 114,
   "metadata": {},
   "outputs": [
    {
     "data": {
      "image/png": "[encoded data removed]",
      "text/plain": [
       "<Figure size 576x288 with 1 Axes>"
      ]
     },
     "metadata": {
      "needs_background": "light"
     },
     "output_type": "display_data"
    }
   ],
   "source": [
    "# checking new data's class distribution\n",
    "\n",
    "plt.figure(figsize=(8,4))\n",
    "\n",
    "plt.hist(new_labels, density=True);\n",
    "plt.ylabel('Normalized count')\n",
    "plt.xlabel('Classes')\n",
    "plt.title('Distribution of classes in full dataset');\n",
    "plt.xticks([0, 0.5, 1.0, 1.5, 2.0, 2.5, 3.0],['artifact', '', 'awake', '', 'slow-wave', '', 'REM'])\n",
    "plt.show()"
   ]
  },
  {
   "cell_type": "code",
   "execution_count": 115,
   "metadata": {},
   "outputs": [
    {
     "name": "stdout",
     "output_type": "stream",
     "text": [
      "data size (1297, 10000, 3) \n",
      "label size (1297,)\n"
     ]
    }
   ],
   "source": [
    "# checking size of remained data\n",
    "print('data size', new_data.shape, '\\nlabel size', new_labels.shape)"
   ]
  },
  {
   "cell_type": "markdown",
   "metadata": {},
   "source": [
    "#### Feature Engineering   \n",
    "\n",
    "##### Dimension reduction   \n",
    "\n",
    "First feature eng. started above during data load section where channels in all data scaled to have zeros mean and unit std.    In this section I try to reduce redundant features from data.   \n",
    "To reduce redundent features, first, I concatenate channels then I apply PCA."
   ]
  },
  {
   "cell_type": "code",
   "execution_count": 116,
   "metadata": {},
   "outputs": [
    {
     "name": "stdout",
     "output_type": "stream",
     "text": [
      "finished\n",
      "new_data_cat shape (1297, 30000)\n"
     ]
    }
   ],
   "source": [
    "new_data_cat = np.zeros_like(new_data.reshape(-1,10000*3))\n",
    "for i in range(new_data.shape[0]):\n",
    "    new_data_cat[i] = np.concatenate((new_data[i,:,0],new_data[i,:,1],new_data[i,:,2]))\n",
    "    \n",
    "print('finished')\n",
    "print('new_data_cat shape', new_data_cat.shape)"
   ]
  },
  {
   "cell_type": "code",
   "execution_count": 117,
   "metadata": {},
   "outputs": [
    {
     "name": "stdout",
     "output_type": "stream",
     "text": [
      "PCA is finished\n",
      "size of new features  (1297, 500)\n"
     ]
    }
   ],
   "source": [
    "from sklearn.decomposition import PCA\n",
    "\n",
    "# Here I apply PCA and keep first 100 components\n",
    "pca = PCA(n_components=500, svd_solver='full')\n",
    "# before feeding data to PCA I normalize them\n",
    "newfeatures = pca.fit_transform(zscore(new_data_cat))\n",
    "\n",
    "print('PCA is finished')\n",
    "print('size of new features ', newfeatures.shape)"
   ]
  },
  {
   "cell_type": "markdown",
   "metadata": {},
   "source": [
    "Now our features are ready and we can start classification model   \n",
    "\n",
    "\n",
    "### Classification   \n",
    "\n",
    "#### Machine learning based classification   \n",
    "For this project I use powerfull technique called XGBoost"
   ]
  },
  {
   "cell_type": "code",
   "execution_count": 118,
   "metadata": {},
   "outputs": [
    {
     "name": "stdout",
     "output_type": "stream",
     "text": [
      "(1167, 500) (130, 500) (1167,) (130,)\n"
     ]
    }
   ],
   "source": [
    "# test, train splitter\n",
    "from sklearn.model_selection import train_test_split\n",
    "\n",
    "\n",
    "x_train, x_test, y_train, y_test = train_test_split(newfeatures, new_labels, test_size=0.1, random_state=42)\n",
    "print(x_train.shape, x_test.shape, y_train.shape, y_test.shape)"
   ]
  },
  {
   "cell_type": "markdown",
   "metadata": {},
   "source": [
    "Based on full features"
   ]
  },
  {
   "cell_type": "code",
   "execution_count": 119,
   "metadata": {
    "scrolled": true
   },
   "outputs": [
    {
     "data": {
      "text/plain": [
       "XGBClassifier(base_score=0.5, booster='gbtree', colsample_bylevel=1,\n",
       "              colsample_bynode=1, colsample_bytree=1, gamma=0, gpu_id=-1,\n",
       "              importance_type='gain', interaction_constraints='',\n",
       "              learning_rate=0.300000012, max_delta_step=0, max_depth=20,\n",
       "              min_child_weight=1, missing=nan, monotone_constraints='()',\n",
       "              n_estimators=200, n_jobs=-1, num_parallel_tree=1,\n",
       "              objective='multi:softprob', random_state=0, reg_alpha=0,\n",
       "              reg_lambda=1, scale_pos_weight=None, subsample=1,\n",
       "              tree_method='exact', validate_parameters=1, verbosity=None)"
      ]
     },
     "execution_count": 119,
     "metadata": {},
     "output_type": "execute_result"
    }
   ],
   "source": [
    "from xgboost import XGBClassifier\n",
    "#https://www.analyticsvidhya.com/blog/2016/03/complete-guide-parameter-tuning-xgboost-with-codes-python/\n",
    "xgb = XGBClassifier(n_jobs=-1, num_parallel_tree=1, n_estimators=200, \n",
    "                    max_depth=20, objective = 'multi:softmax')\n",
    "\n",
    "xgb.fit(x_train, y_train, eval_set=[(x_test, y_test)], \n",
    "        eval_metric =['merror', 'mlogloss'], verbose=False)"
   ]
  },
  {
   "cell_type": "code",
   "execution_count": 120,
   "metadata": {},
   "outputs": [
    {
     "name": "stdout",
     "output_type": "stream",
     "text": [
      "Accuracy: 55.38%\n"
     ]
    }
   ],
   "source": [
    "from sklearn.metrics import accuracy_score\n",
    "\n",
    "predict_ = xgb.predict(x_test)\n",
    "accuracy = accuracy_score(y_test, predict_)\n",
    "print(\"Accuracy: %.2f%%\" % (accuracy * 100.0))"
   ]
  },
  {
   "cell_type": "code",
   "execution_count": 128,
   "metadata": {},
   "outputs": [
    {
     "data": {
      "text/plain": [
       "<sklearn.metrics._plot.confusion_matrix.ConfusionMatrixDisplay at 0x273e4ddb00>"
      ]
     },
     "execution_count": 128,
     "metadata": {},
     "output_type": "execute_result"
    },
    {
     "data": {
      "image/png": "[encoded data removed]",
      "text/plain": [
       "<Figure size 432x288 with 2 Axes>"
      ]
     },
     "metadata": {
      "needs_background": "light"
     },
     "output_type": "display_data"
    }
   ],
   "source": [
    "from sklearn.metrics import plot_confusion_matrix\n",
    "\n",
    "plot_confusion_matrix(xgb, x_test, y_test, normalize= 'true')"
   ]
  },
  {
   "cell_type": "markdown",
   "metadata": {},
   "source": [
    "#### Detecting best classifier and optimizing hyper-parameters"
   ]
  },
  {
   "cell_type": "code",
   "execution_count": 131,
   "metadata": {},
   "outputs": [],
   "source": [
    "from sklearn.pipeline import Pipeline\n",
    "\n",
    "from sklearn.linear_model import SGDClassifier, PassiveAggressiveClassifier\n",
    "from sklearn.neural_network import MLPClassifier\n",
    "from sklearn.neighbors import KNeighborsClassifier\n",
    "from sklearn.svm import SVC\n",
    "from sklearn.gaussian_process.kernels import RBF\n",
    "from sklearn.tree import DecisionTreeClassifier\n",
    "from sklearn.ensemble import RandomForestClassifier, AdaBoostClassifier\n",
    "from sklearn.naive_bayes import GaussianNB\n",
    "from sklearn.discriminant_analysis import QuadraticDiscriminantAnalysis\n",
    "\n",
    "from sklearn.model_selection import g\n",
    "from sklearn.preprocessing import StandardScaler"
   ]
  },
  {
   "cell_type": "code",
   "execution_count": 147,
   "metadata": {},
   "outputs": [],
   "source": [
    "# preparing classifiers and parameters range for hyperparameters tunning\n",
    "\n",
    "classifiers = [SGDClassifier(penalty='elasticnet', max_iter= 1000), MLPClassifier(learning_rate= 'adaptive', max_iter=1000), \n",
    "               KNeighborsClassifier(), SVC(max_iter=10000),  DecisionTreeClassifier(),\n",
    "               RandomForestClassifier(), AdaBoostClassifier(), GaussianNB(), QuadraticDiscriminantAnalysis(),\n",
    "               XGBClassifier(), PassiveAggressiveClassifier(max_iter=1000)]\n",
    "\n",
    "Params = [dict(pca__n_components=[10, 50, 100, 250, 500],\n",
    "               sgd__loss = ['hinge', 'log', 'modified_huber', 'squared_hinge'], sgd__l1_ratio = [.04, .08, .1, .13]), \n",
    "          dict(pca__n_components=[10, 50, 100, 250, 500], mlp__activation = ['tanh', 'relu']), \n",
    "          dict(pca__n_components=[10, 50, 100, 250, 500], kn__n_neighbors = [3, 5, 10, 15], \n",
    "               kn__leaf_size = [20, 30 ,40]), \n",
    "          dict(pca__n_components=[10, 50, 100, 250, 500], svc__C = [ 5, 20, 50, 70, 90]), \n",
    "          dict(pca__n_components=[10, 50, 100, 250, 500, 900], dc__criterion = ['gini', 'entropy']), \n",
    "          dict(pca__n_components=[10, 50, 100, 250, 500], rf__criterion = ['gini', 'entropy'], \n",
    "               rf__n_estimators = [40, 100, 200, 400, 800]), \n",
    "          dict(pca__n_components=[10, 50, 100, 250, 500], ad__n_estimators = [10, 20, 40, 100, 200, 400]), \n",
    "          dict(pca__n_components=[10, 50, 100, 250, 500] ), \n",
    "          dict(pca__n_components=[10, 50, 100, 250, 500], qd__reg_param = [0, .05, .1, .4]), \n",
    "          dict(pca__n_components=[10, 50, 100, 250, 500], xg__max_depth = [4, 6, 10, 15, 25], \n",
    "               xg__n_estimators = [50, 100, 200, 400, 800]), \n",
    "          dict(pca__n_components=[10, 50, 100, 250, 500], pa__C = [.1, .5, 1.])]\n",
    "\n",
    "names = ['sgd', 'mlp', 'kn', 'svc', 'dc', 'rf', 'ad', 'gnb', 'qd', 'xg', 'pa']"
   ]
  },
  {
   "cell_type": "markdown",
   "metadata": {},
   "source": [
    "### selecting best classifier with optimal parameters using GridSearch and CV"
   ]
  },
  {
   "cell_type": "code",
   "execution_count": 148,
   "metadata": {},
   "outputs": [],
   "source": [
    "# to GridSearch and Pipeline are used within list comperhension\n",
    "\n",
    "results = [GridSearchCV(Pipeline([('scaler', StandardScaler()),('pca', PCA()),(name, classifier)]), \n",
    "                        param_grid=param,  n_jobs=40, cv=5).fit(x_train, y_train) \n",
    "           for name, classifier, param in zip(names, classifiers, Params)]"
   ]
  },
  {
   "cell_type": "code",
   "execution_count": 149,
   "metadata": {},
   "outputs": [
    {
     "name": "stdout",
     "output_type": "stream",
     "text": [
      "0.3667143538388173 \n",
      " {'pca__n_components': 10, 'sgd__l1_ratio': 0.1, 'sgd__loss': 'squared_hinge'} \n",
      " Pipeline(steps=[('scaler', StandardScaler()), ('pca', PCA(n_components=10)),\n",
      "                ('sgd',\n",
      "                 SGDClassifier(l1_ratio=0.1, loss='squared_hinge',\n",
      "                               penalty='elasticnet'))]) \n",
      "\n",
      "\n",
      "\n",
      "0.48417886357800527 \n",
      " {'mlp__activation': 'relu', 'pca__n_components': 50} \n",
      " Pipeline(steps=[('scaler', StandardScaler()), ('pca', PCA(n_components=50)),\n",
      "                ('mlp',\n",
      "                 MLPClassifier(learning_rate='adaptive', max_iter=1000))]) \n",
      "\n",
      "\n",
      "\n",
      "0.45413594512306954 \n",
      " {'kn__leaf_size': 40, 'kn__n_neighbors': 5, 'pca__n_components': 10} \n",
      " Pipeline(steps=[('scaler', StandardScaler()), ('pca', PCA(n_components=10)),\n",
      "                ('kn', KNeighborsClassifier(leaf_size=40))]) \n",
      "\n",
      "\n",
      "\n",
      "0.5167198562048348 \n",
      " {'pca__n_components': 50, 'svc__C': 70} \n",
      " Pipeline(steps=[('scaler', StandardScaler()), ('pca', PCA(n_components=50)),\n",
      "                ('svc', SVC(C=70, max_iter=10000))]) \n",
      "\n",
      "\n",
      "\n",
      "0.44730934301749753 \n",
      " {'dc__criterion': 'entropy', 'pca__n_components': 500} \n",
      " Pipeline(steps=[('scaler', StandardScaler()), ('pca', PCA(n_components=500)),\n",
      "                ('dc', DecisionTreeClassifier(criterion='entropy'))]) \n",
      "\n",
      "\n",
      "\n",
      "0.5750009170610029 \n",
      " {'pca__n_components': 100, 'rf__criterion': 'entropy', 'rf__n_estimators': 800} \n",
      " Pipeline(steps=[('scaler', StandardScaler()), ('pca', PCA(n_components=100)),\n",
      "                ('rf',\n",
      "                 RandomForestClassifier(criterion='entropy',\n",
      "                                        n_estimators=800))]) \n",
      "\n",
      "\n",
      "\n",
      "0.46101023440079236 \n",
      " {'ad__n_estimators': 400, 'pca__n_components': 500} \n",
      " Pipeline(steps=[('scaler', StandardScaler()), ('pca', PCA(n_components=500)),\n",
      "                ('ad', AdaBoostClassifier(n_estimators=400))]) \n",
      "\n",
      "\n",
      "\n",
      "0.5407248450166906 \n",
      " {'pca__n_components': 50} \n",
      " Pipeline(steps=[('scaler', StandardScaler()), ('pca', PCA(n_components=50)),\n",
      "                ('gnb', GaussianNB())]) \n",
      "\n",
      "\n",
      "\n",
      "0.5715564359341183 \n",
      " {'pca__n_components': 50, 'qd__reg_param': 0.1} \n",
      " Pipeline(steps=[('scaler', StandardScaler()), ('pca', PCA(n_components=50)),\n",
      "                ('qd', QuadraticDiscriminantAnalysis(reg_param=0.1))]) \n",
      "\n",
      "\n",
      "\n",
      "0.5492718535636991 \n",
      " {'pca__n_components': 50, 'xg__max_depth': 10, 'xg__n_estimators': 400} \n",
      " Pipeline(steps=[('scaler', StandardScaler()), ('pca', PCA(n_components=50)),\n",
      "                ('xg',\n",
      "                 XGBClassifier(base_score=0.5, booster='gbtree',\n",
      "                               colsample_bylevel=1, colsample_bynode=1,\n",
      "                               colsample_bytree=1, gamma=0, gpu_id=-1,\n",
      "                               importance_type='gain',\n",
      "                               interaction_constraints='',\n",
      "                               learning_rate=0.300000012, max_delta_step=0,\n",
      "                               max_depth=10, min_child_weight=1, missing=nan,\n",
      "                               monotone_constraints='()', n_estimators=400,\n",
      "                               n_jobs=0, num_parallel_tree=1,\n",
      "                               objective='multi:softprob', random_state=0,\n",
      "                               reg_alpha=0, reg_lambda=1, scale_pos_weight=None,\n",
      "                               subsample=1, tree_method='exact',\n",
      "                               validate_parameters=1, verbosity=None))]) \n",
      "\n",
      "\n",
      "\n",
      "0.3401709401709402 \n",
      " {'pa__C': 0.1, 'pca__n_components': 500} \n",
      " Pipeline(steps=[('scaler', StandardScaler()), ('pca', PCA(n_components=500)),\n",
      "                ('pa', PassiveAggressiveClassifier(C=0.1))]) \n",
      "\n",
      "\n",
      "\n"
     ]
    },
    {
     "data": {
      "text/plain": [
       "[None, None, None, None, None, None, None, None, None, None, None]"
      ]
     },
     "execution_count": 149,
     "metadata": {},
     "output_type": "execute_result"
    }
   ],
   "source": [
    "[print(result.best_score_, '\\n', result.best_params_, '\\n', result.best_estimator_, '\\n\\n\\n') for result in results]"
   ]
  },
  {
   "cell_type": "markdown",
   "metadata": {},
   "source": [
    "It seems that RandomForest classifier doing better than others   \n",
    "Below I adjust parameters more to see how much I can improve the accuracy   \n",
    "\n",
    "Running classifier on full features and after PCA dimension reduction"
   ]
  },
  {
   "cell_type": "code",
   "execution_count": 134,
   "metadata": {},
   "outputs": [
    {
     "data": {
      "text/plain": [
       "RandomForestClassifier(criterion='entropy', n_estimators=2000, n_jobs=-1)"
      ]
     },
     "execution_count": 134,
     "metadata": {},
     "output_type": "execute_result"
    }
   ],
   "source": [
    "# base function\n",
    "rndf = RandomForestClassifier(criterion='entropy', n_jobs=-1, n_estimators = 2000)\n",
    "rndf.fit(x_train, y_train )"
   ]
  },
  {
   "cell_type": "code",
   "execution_count": 135,
   "metadata": {},
   "outputs": [
    {
     "data": {
      "text/plain": [
       "0.6"
      ]
     },
     "execution_count": 135,
     "metadata": {},
     "output_type": "execute_result"
    }
   ],
   "source": [
    "# After PCA\n",
    "rndf.score(x_test, y_test)"
   ]
  },
  {
   "cell_type": "code",
   "execution_count": 136,
   "metadata": {},
   "outputs": [
    {
     "data": {
      "text/plain": [
       "<sklearn.metrics._plot.confusion_matrix.ConfusionMatrixDisplay at 0x273e579ac8>"
      ]
     },
     "execution_count": 136,
     "metadata": {},
     "output_type": "execute_result"
    },
    {
     "data": {
      "image/png": "[encoded data removed]",
      "text/plain": [
       "<Figure size 432x288 with 2 Axes>"
      ]
     },
     "metadata": {
      "needs_background": "light"
     },
     "output_type": "display_data"
    }
   ],
   "source": [
    "plot_confusion_matrix(rndf, x_test, y_test, normalize='true')"
   ]
  },
  {
   "cell_type": "code",
   "execution_count": 160,
   "metadata": {},
   "outputs": [
    {
     "data": {
      "text/plain": [
       "0.7"
      ]
     },
     "execution_count": 160,
     "metadata": {},
     "output_type": "execute_result"
    }
   ],
   "source": [
    "# Full features\n",
    "rndf.score(x_test, y_test)"
   ]
  },
  {
   "cell_type": "markdown",
   "metadata": {},
   "source": [
    "Just by changing number of estimators I could slighlty improve accuracy  \n",
    "additionaly, it seems using full features increases accuracy. However using full features computationally is a expensive task and takes longer time.\n",
    "\n",
    "#### Different feature engineering using FFT"
   ]
  },
  {
   "cell_type": "code",
   "execution_count": 137,
   "metadata": {},
   "outputs": [],
   "source": [
    "from scipy.signal import stft"
   ]
  },
  {
   "cell_type": "markdown",
   "metadata": {},
   "source": [
    "calculating stft per concatenated channel in each epoch, then data becomes (nr_samples, time_bins, frequency_bins)"
   ]
  },
  {
   "cell_type": "code",
   "execution_count": 138,
   "metadata": {},
   "outputs": [
    {
     "name": "stdout",
     "output_type": "stream",
     "text": [
      "(1297, 257, 123)\n"
     ]
    },
    {
     "name": "stderr",
     "output_type": "stream",
     "text": [
      "c:\\users\\admin\\anaconda3\\envs\\tf2.0.0\\lib\\site-packages\\ipykernel_launcher.py:12: RuntimeWarning: divide by zero encountered in log\n",
      "  if sys.path[0] == '':\n"
     ]
    },
    {
     "name": "stdout",
     "output_type": "stream",
     "text": [
      "(1297, 257, 123)\n",
      "-inf 2.8725757144861643\n"
     ]
    }
   ],
   "source": [
    "new_data_fft = []\n",
    "for j in range(new_data.shape[0]):\n",
    "    temp = [stft(new_data[j,:,i], 1000, nperseg=512) for i in range(3)]\n",
    "    #import pdb;pdb.set_trace()\n",
    "    new_data_fft.append(np.hstack((temp[0][2], temp[1][2], temp[2][2])))\n",
    "    \n",
    "new_data_fft = np.array(new_data_fft)\n",
    "print(new_data_fft.shape)\n",
    "\n",
    "new_data_fft_log = np.zeros(new_data_fft.shape)\n",
    "for i in range(new_data_fft.shape[0]):\n",
    "    new_data_fft_log[i] = np.log(np.abs(new_data_fft[i]))\n",
    "print(new_data_fft_log.shape)\n",
    "print(new_data_fft_log.min(), new_data_fft_log.max())"
   ]
  },
  {
   "cell_type": "code",
   "execution_count": 139,
   "metadata": {},
   "outputs": [
    {
     "name": "stdout",
     "output_type": "stream",
     "text": [
      "-56.87768941184357 2.8725757144861643\n"
     ]
    }
   ],
   "source": [
    "# removing -infs\n",
    "new_data_fft_log = np.where(new_data_fft_log == np.NINF, 0, new_data_fft_log)\n",
    "print(new_data_fft_log.min(), new_data_fft_log.max())"
   ]
  },
  {
   "cell_type": "code",
   "execution_count": 140,
   "metadata": {},
   "outputs": [
    {
     "data": {
      "text/plain": [
       "Text(0.5, 1.0, 'Example of stft on single epoch')"
      ]
     },
     "execution_count": 140,
     "metadata": {},
     "output_type": "execute_result"
    },
    {
     "data": {
      "image/png": "[encoded data removed]",
      "text/plain": [
       "<Figure size 432x288 with 2 Axes>"
      ]
     },
     "metadata": {
      "needs_background": "light"
     },
     "output_type": "display_data"
    }
   ],
   "source": [
    "plt.pcolormesh(new_data_fft_log[100], shading='gouraud')\n",
    "plt.colorbar()\n",
    "plt.ylabel('Frequency (Hz)')\n",
    "plt.xlabel('Time')\n",
    "plt.title('Example of stft on single epoch')"
   ]
  },
  {
   "cell_type": "code",
   "execution_count": 141,
   "metadata": {},
   "outputs": [
    {
     "name": "stdout",
     "output_type": "stream",
     "text": [
      "(1167, 31611) (130, 31611) (1167,) (130,)\n"
     ]
    }
   ],
   "source": [
    "x_train, x_test, y_train, y_test = train_test_split(new_data_fft_log.reshape(-1,257*123), new_labels, test_size=0.1, random_state=42)\n",
    "print(x_train.shape, x_test.shape, y_train.shape, y_test.shape)"
   ]
  },
  {
   "cell_type": "markdown",
   "metadata": {},
   "source": [
    "running previous classifiers on new features"
   ]
  },
  {
   "cell_type": "code",
   "execution_count": 232,
   "metadata": {},
   "outputs": [],
   "source": [
    "# running multiple classifiers with new features\n",
    "results = [GridSearchCV(Pipeline([('scaler', StandardScaler()),('pca', PCA()),(name, classifier)]), \n",
    "                        param_grid=param,  n_jobs=40, cv=5).fit(x_train, y_train) \n",
    "           for name, classifier, param in zip(names, classifiers, Params)]"
   ]
  },
  {
   "cell_type": "code",
   "execution_count": 233,
   "metadata": {},
   "outputs": [
    {
     "name": "stdout",
     "output_type": "stream",
     "text": [
      "0.8303437144638861 \n",
      " {'pca__n_components': 500, 'sgd__l1_ratio': 0.1, 'sgd__loss': 'squared_hinge'} \n",
      " Pipeline(steps=[('scaler', StandardScaler()), ('pca', PCA(n_components=500)),\n",
      "                ('sgd',\n",
      "                 SGDClassifier(l1_ratio=0.1, loss='squared_hinge',\n",
      "                               penalty='elasticnet'))]) \n",
      "\n",
      "\n",
      "\n",
      "0.8106342393896042 \n",
      " {'mlp__activation': 'relu', 'pca__n_components': 50} \n",
      " Pipeline(steps=[('scaler', StandardScaler()), ('pca', PCA(n_components=50)),\n",
      "                ('mlp',\n",
      "                 MLPClassifier(learning_rate='adaptive', max_iter=1000))]) \n",
      "\n",
      "\n",
      "\n",
      "0.7386889695902572 \n",
      " {'kn__leaf_size': 20, 'kn__n_neighbors': 3, 'pca__n_components': 10} \n",
      " Pipeline(steps=[('scaler', StandardScaler()), ('pca', PCA(n_components=10)),\n",
      "                ('kn', KNeighborsClassifier(leaf_size=20, n_neighbors=3))]) \n",
      "\n",
      "\n",
      "\n",
      "0.8389127324749642 \n",
      " {'pca__n_components': 50, 'svc__C': 50} \n",
      " Pipeline(steps=[('scaler', StandardScaler()), ('pca', PCA(n_components=50)),\n",
      "                ('svc', SVC(C=50, max_iter=10000))]) \n",
      "\n",
      "\n",
      "\n",
      "0.7206668867613073 \n",
      " {'dc__criterion': 'gini', 'pca__n_components': 500} \n",
      " Pipeline(steps=[('scaler', StandardScaler()), ('pca', PCA(n_components=500)),\n",
      "                ('dc', DecisionTreeClassifier())]) \n",
      "\n",
      "\n",
      "\n",
      "0.8132203514177763 \n",
      " {'pca__n_components': 50, 'rf__criterion': 'entropy', 'rf__n_estimators': 200} \n",
      " Pipeline(steps=[('scaler', StandardScaler()), ('pca', PCA(n_components=50)),\n",
      "                ('rf',\n",
      "                 RandomForestClassifier(criterion='entropy',\n",
      "                                        n_estimators=200))]) \n",
      "\n",
      "\n",
      "\n",
      "0.7017644253695756 \n",
      " {'ad__n_estimators': 200, 'pca__n_components': 50} \n",
      " Pipeline(steps=[('scaler', StandardScaler()), ('pca', PCA(n_components=50)),\n",
      "                ('ad', AdaBoostClassifier(n_estimators=200))]) \n",
      "\n",
      "\n",
      "\n",
      "0.6889585855251091 \n",
      " {'pca__n_components': 10} \n",
      " Pipeline(steps=[('scaler', StandardScaler()), ('pca', PCA(n_components=10)),\n",
      "                ('gnb', GaussianNB())]) \n",
      "\n",
      "\n",
      "\n",
      "0.8320714573933458 \n",
      " {'pca__n_components': 50, 'qd__reg_param': 0.4} \n",
      " Pipeline(steps=[('scaler', StandardScaler()), ('pca', PCA(n_components=50)),\n",
      "                ('qd', QuadraticDiscriminantAnalysis(reg_param=0.4))]) \n",
      "\n",
      "\n",
      "\n",
      "0.8277759436557719 \n",
      " {'pca__n_components': 50, 'xg__max_depth': 25, 'xg__n_estimators': 100} \n",
      " Pipeline(steps=[('scaler', StandardScaler()), ('pca', PCA(n_components=50)),\n",
      "                ('xg',\n",
      "                 XGBClassifier(base_score=0.5, booster='gbtree',\n",
      "                               colsample_bylevel=1, colsample_bynode=1,\n",
      "                               colsample_bytree=1, gamma=0, gpu_id=-1,\n",
      "                               importance_type='gain',\n",
      "                               interaction_constraints='',\n",
      "                               learning_rate=0.300000012, max_delta_step=0,\n",
      "                               max_depth=25, min_child_weight=1, missing=nan,\n",
      "                               monotone_constraints='()', n_estimators=100,\n",
      "                               n_jobs=0, num_parallel_tree=1,\n",
      "                               objective='multi:softprob', random_state=0,\n",
      "                               reg_alpha=0, reg_lambda=1, scale_pos_weight=None,\n",
      "                               subsample=1, tree_method='exact',\n",
      "                               validate_parameters=1, verbosity=None))]) \n",
      "\n",
      "\n",
      "\n",
      "0.7978137265690914 \n",
      " {'pa__C': 0.1, 'pca__n_components': 250} \n",
      " Pipeline(steps=[('scaler', StandardScaler()), ('pca', PCA(n_components=250)),\n",
      "                ('pa', PassiveAggressiveClassifier(C=0.1))]) \n",
      "\n",
      "\n",
      "\n"
     ]
    },
    {
     "data": {
      "text/plain": [
       "[None, None, None, None, None, None, None, None, None, None, None]"
      ]
     },
     "execution_count": 233,
     "metadata": {},
     "output_type": "execute_result"
    }
   ],
   "source": [
    "[print(result.best_score_, '\\n', result.best_params_, '\\n', result.best_estimator_, '\\n\\n\\n') for result in results]"
   ]
  },
  {
   "cell_type": "code",
   "execution_count": 154,
   "metadata": {},
   "outputs": [
    {
     "data": {
      "text/plain": [
       "XGBClassifier(base_score=0.5, booster='gbtree', colsample_bylevel=1,\n",
       "              colsample_bynode=1, colsample_bytree=1, gamma=0, gpu_id=-1,\n",
       "              importance_type='gain', interaction_constraints='',\n",
       "              learning_rate=0.300000012, max_delta_step=0, max_depth=55,\n",
       "              min_child_weight=1, missing=nan, monotone_constraints='()',\n",
       "              n_estimators=100, n_jobs=-1, num_parallel_tree=1,\n",
       "              objective='multi:softprob', random_state=0, reg_alpha=0,\n",
       "              reg_lambda=1, scale_pos_weight=None, subsample=1,\n",
       "              tree_method='exact', validate_parameters=1, verbosity=None)"
      ]
     },
     "execution_count": 154,
     "metadata": {},
     "output_type": "execute_result"
    }
   ],
   "source": [
    "xgb = XGBClassifier(n_jobs=-1, num_parallel_tree=1, n_estimators=100, \n",
    "                    max_depth=55, objective = 'multi:softmax')\n",
    "\n",
    "xgb.fit(x_train, y_train, eval_set=[(x_test, y_test)], \n",
    "       eval_metric =['merror', 'mlogloss'], verbose=False)\n",
    "\n"
   ]
  },
  {
   "cell_type": "code",
   "execution_count": 155,
   "metadata": {},
   "outputs": [
    {
     "name": "stdout",
     "output_type": "stream",
     "text": [
      "Accuracy: 82.31%\n"
     ]
    }
   ],
   "source": [
    "predict_ = xgb.predict(x_test)\n",
    "accuracy = accuracy_score(y_test, predict_)\n",
    "print(\"Accuracy: %.2f%%\" % (accuracy * 100.0))"
   ]
  },
  {
   "cell_type": "code",
   "execution_count": 156,
   "metadata": {},
   "outputs": [
    {
     "data": {
      "text/plain": [
       "<sklearn.metrics._plot.confusion_matrix.ConfusionMatrixDisplay at 0x274575fcf8>"
      ]
     },
     "execution_count": 156,
     "metadata": {},
     "output_type": "execute_result"
    },
    {
     "data": {
      "image/png": "[encoded data removed]",
      "text/plain": [
       "<Figure size 432x288 with 2 Axes>"
      ]
     },
     "metadata": {
      "needs_background": "light"
     },
     "output_type": "display_data"
    }
   ],
   "source": [
    "plot_confusion_matrix(xgb, x_test, y_test, normalize='true')"
   ]
  },
  {
   "cell_type": "markdown",
   "metadata": {},
   "source": [
    "### Conclution\n",
    "\n",
    "We got much better classification accuracy using stft based features Eng. Comparing best to best classifiers between two approches we were able to improve accuracy by __17%__.\n",
    "\n",
    "\n",
    "### Classification using DeepLearning (Transfer Learning)"
   ]
  },
  {
   "cell_type": "markdown",
   "metadata": {},
   "source": [
    "calculating stft per channel in each epoch, then data becomes (nr_samples, time_bins, frequency_bins, channels)"
   ]
  },
  {
   "cell_type": "code",
   "execution_count": 12,
   "metadata": {},
   "outputs": [
    {
     "name": "stderr",
     "output_type": "stream",
     "text": [
      "c:\\users\\admin\\anaconda3\\envs\\tf2.0.0\\lib\\site-packages\\ipykernel_launcher.py:8: ComplexWarning: Casting complex values to real discards the imaginary part\n",
      "  \n"
     ]
    },
    {
     "name": "stdout",
     "output_type": "stream",
     "text": [
      "(1297, 257, 41, 3)\n"
     ]
    },
    {
     "name": "stderr",
     "output_type": "stream",
     "text": [
      "c:\\users\\admin\\anaconda3\\envs\\tf2.0.0\\lib\\site-packages\\ipykernel_launcher.py:15: RuntimeWarning: divide by zero encountered in log\n",
      "  from ipykernel import kernelapp as app\n"
     ]
    },
    {
     "name": "stdout",
     "output_type": "stream",
     "text": [
      "(1297, 257, 41, 3)\n",
      "-inf 2.8725757144861643\n",
      "new labels (1297,)\n"
     ]
    }
   ],
   "source": [
    "# I prepare data slightly differently here\n",
    "\n",
    "new_data_fft_ = np.zeros((new_data.shape[0], 257, 41, 3))\n",
    "for j in range(new_data.shape[0]):\n",
    "    for k in range(3):\n",
    "        _,_,Zxx = stft(new_data[j,:,k], 1000, nperseg=512)\n",
    "        #import pdb;pdb.set_trace()\n",
    "        new_data_fft_[j,:,:,k] = Zxx\n",
    "    \n",
    "\n",
    "print(new_data_fft_.shape)\n",
    "\n",
    "new_data_fft_log_ = np.zeros(new_data_fft_.shape)\n",
    "for i in range(new_data_fft_.shape[0]):\n",
    "    new_data_fft_log_[i] = np.log(np.abs(new_data_fft_[i]))\n",
    "print(new_data_fft_log_.shape)\n",
    "print(new_data_fft_log_.min(), new_data_fft_log_.max())\n",
    "\n",
    "print('new labels', new_labels.shape)"
   ]
  },
  {
   "cell_type": "code",
   "execution_count": null,
   "metadata": {},
   "outputs": [],
   "source": []
  },
  {
   "cell_type": "code",
   "execution_count": 13,
   "metadata": {},
   "outputs": [
    {
     "name": "stdout",
     "output_type": "stream",
     "text": [
      "-60.68383777979256 2.8725757144861643\n"
     ]
    }
   ],
   "source": [
    "# removing -infs\n",
    "new_data_fft_log_ = np.where(new_data_fft_log_ == np.NINF, 0, new_data_fft_log_)\n",
    "print(new_data_fft_log_.min(), new_data_fft_log_.max())"
   ]
  },
  {
   "cell_type": "code",
   "execution_count": 14,
   "metadata": {},
   "outputs": [],
   "source": [
    "# prepare data and loading packages\n",
    "\n",
    "from tensorflow.keras.preprocessing.image import array_to_img\n",
    "from tensorflow.keras.preprocessing.image import img_to_array\n",
    "\n",
    "test = list(map(img_to_array, map(array_to_img, new_data_fft_log_)))\n",
    "\n",
    "data_ = np.stack(test,axis = 0)/255."
   ]
  },
  {
   "cell_type": "code",
   "execution_count": 72,
   "metadata": {},
   "outputs": [],
   "source": [
    "tf.keras.backend.clear_session()"
   ]
  },
  {
   "cell_type": "markdown",
   "metadata": {},
   "source": [
    "Below, I load based model (Xception model) then in the first step I freeze parameters of based model and I define 2 dense layers with dropout as top layers. Then I train model to given data with freezed parameters of based model. When 2 top dense layers trained then we unfreeze the base model parameters and with low learning rate we fine-tune the all parameters."
   ]
  },
  {
   "cell_type": "code",
   "execution_count": 73,
   "metadata": {},
   "outputs": [
    {
     "name": "stdout",
     "output_type": "stream",
     "text": [
      "Model: \"model\"\n",
      "__________________________________________________________________________________________________\n",
      "Layer (type)                    Output Shape         Param #     Connected to                     \n",
      "==================================================================================================\n",
      "input_2 (InputLayer)            [(None, 257, 41, 3)] 0                                            \n",
      "__________________________________________________________________________________________________\n",
      "tf_op_layer_resize/Shape (Tenso [(4,)]               0           input_2[0][0]                    \n",
      "__________________________________________________________________________________________________\n",
      "tf_op_layer_resize/strided_slic [(2,)]               0           tf_op_layer_resize/Shape[0][0]   \n",
      "__________________________________________________________________________________________________\n",
      "tf_op_layer_resize/Cast (Tensor [(2,)]               0           tf_op_layer_resize/strided_slice[\n",
      "__________________________________________________________________________________________________\n",
      "tf_op_layer_resize/truediv (Ten [(2,)]               0           tf_op_layer_resize/Cast[0][0]    \n",
      "__________________________________________________________________________________________________\n",
      "tf_op_layer_resize/ScaleAndTran [(None, 150, 120, 3) 0           input_2[0][0]                    \n",
      "                                                                 tf_op_layer_resize/truediv[0][0] \n",
      "__________________________________________________________________________________________________\n",
      "xception (Model)                (None, 5, 4, 2048)   20861480    tf_op_layer_resize/ScaleAndTransl\n",
      "__________________________________________________________________________________________________\n",
      "global_average_pooling2d (Globa (None, 2048)         0           xception[1][0]                   \n",
      "__________________________________________________________________________________________________\n",
      "dropout (Dropout)               (None, 2048)         0           global_average_pooling2d[0][0]   \n",
      "__________________________________________________________________________________________________\n",
      "dense (Dense)                   (None, 200)          409800      dropout[0][0]                    \n",
      "__________________________________________________________________________________________________\n",
      "dropout_1 (Dropout)             (None, 200)          0           dense[0][0]                      \n",
      "__________________________________________________________________________________________________\n",
      "dense_1 (Dense)                 (None, 4)            804         dropout_1[0][0]                  \n",
      "==================================================================================================\n",
      "Total params: 21,272,084\n",
      "Trainable params: 410,604\n",
      "Non-trainable params: 20,861,480\n",
      "__________________________________________________________________________________________________\n"
     ]
    }
   ],
   "source": [
    "\n",
    "base_model = tf.keras.applications.Xception(\n",
    "    weights=\"imagenet\",  # Load weights pre-trained on ImageNet.\n",
    "    input_shape=(150, 120, 3),\n",
    "    include_top=False,\n",
    ")  \n",
    "\n",
    "# Freeze the base_model\n",
    "base_model.trainable = False\n",
    "\n",
    "# Create new model on top\n",
    "inputs = tf.keras.Input(shape=(257, 41, 3))\n",
    "\n",
    "x = tf.image.resize(inputs, size= (150, 120), antialias=True) \n",
    "\n",
    "# The base model contains batchnorm layers. We want to keep them in inference mode\n",
    "# when we unfreeze the base model for fine-tuning, so we make sure that the\n",
    "# base_model is running in inference mode here.\n",
    "x = base_model(x, training=False)\n",
    "x = tf.keras.layers.GlobalAveragePooling2D()(x)\n",
    "x = tf.keras.layers.Dropout(0.5)(x)  # Regularize with dropout\n",
    "x = tf.keras.layers.Dense(200, activation='relu')(x)\n",
    "x = tf.keras.layers.Dropout(0.2)(x)  # Regularize with dropout\n",
    "outputs = tf.keras.layers.Dense(4, activation='softmax')(x)\n",
    "model = tf.keras.Model(inputs, outputs)\n",
    "\n",
    "model.summary()"
   ]
  },
  {
   "cell_type": "code",
   "execution_count": 74,
   "metadata": {},
   "outputs": [],
   "source": [
    "loss_fn = tf.keras.losses.categorical_crossentropy\n",
    "optimizer = tf.keras.optimizers.Adam(1e-5)"
   ]
  },
  {
   "cell_type": "code",
   "execution_count": 75,
   "metadata": {},
   "outputs": [],
   "source": [
    "# compile the model\n",
    "model.compile(\n",
    "    optimizer=optimizer,\n",
    "    loss=loss_fn,\n",
    "    metrics=['accuracy']\n",
    ")\n",
    "\n",
    "\n",
    "my_callbacks = [\n",
    "    tf.keras.callbacks.EarlyStopping(patience=2),\n",
    "]"
   ]
  },
  {
   "cell_type": "code",
   "execution_count": 76,
   "metadata": {
    "scrolled": true
   },
   "outputs": [
    {
     "name": "stdout",
     "output_type": "stream",
     "text": [
      "Train on 1167 samples, validate on 130 samples\n",
      "Epoch 1/100\n",
      "1167/1167 [==============================] - 8s 7ms/sample - loss: 1.3721 - accuracy: 0.3136 - val_loss: 1.3888 - val_accuracy: 0.0385\n",
      "Epoch 2/100\n",
      "1167/1167 [==============================] - 3s 2ms/sample - loss: 1.3386 - accuracy: 0.3376 - val_loss: 1.3915 - val_accuracy: 0.0231\n",
      "Epoch 3/100\n",
      "1167/1167 [==============================] - 3s 2ms/sample - loss: 1.3041 - accuracy: 0.4156 - val_loss: 1.3833 - val_accuracy: 0.0154\n",
      "Epoch 4/100\n",
      "1167/1167 [==============================] - 3s 2ms/sample - loss: 1.2653 - accuracy: 0.4627 - val_loss: 1.3797 - val_accuracy: 0.0154\n",
      "Epoch 5/100\n",
      "1167/1167 [==============================] - 3s 2ms/sample - loss: 1.2323 - accuracy: 0.4876 - val_loss: 1.3762 - val_accuracy: 0.0231\n",
      "Epoch 6/100\n",
      "1167/1167 [==============================] - 3s 2ms/sample - loss: 1.2121 - accuracy: 0.5133 - val_loss: 1.3705 - val_accuracy: 0.0462\n",
      "Epoch 7/100\n",
      "1167/1167 [==============================] - 3s 2ms/sample - loss: 1.1941 - accuracy: 0.5167 - val_loss: 1.3576 - val_accuracy: 0.0615\n",
      "Epoch 8/100\n",
      "1167/1167 [==============================] - 3s 2ms/sample - loss: 1.1691 - accuracy: 0.5407 - val_loss: 1.3493 - val_accuracy: 0.0769\n",
      "Epoch 9/100\n",
      "1167/1167 [==============================] - 3s 2ms/sample - loss: 1.1542 - accuracy: 0.5261 - val_loss: 1.3354 - val_accuracy: 0.0846\n",
      "Epoch 10/100\n",
      "1167/1167 [==============================] - 3s 2ms/sample - loss: 1.1309 - accuracy: 0.5467 - val_loss: 1.3239 - val_accuracy: 0.1231\n",
      "Epoch 11/100\n",
      "1167/1167 [==============================] - 3s 2ms/sample - loss: 1.1172 - accuracy: 0.5656 - val_loss: 1.3124 - val_accuracy: 0.1308\n",
      "Epoch 12/100\n",
      "1167/1167 [==============================] - 3s 2ms/sample - loss: 1.1053 - accuracy: 0.5621 - val_loss: 1.2968 - val_accuracy: 0.1538\n",
      "Epoch 13/100\n",
      "1167/1167 [==============================] - 3s 2ms/sample - loss: 1.0890 - accuracy: 0.5681 - val_loss: 1.2874 - val_accuracy: 0.1769\n",
      "Epoch 14/100\n",
      "1167/1167 [==============================] - 3s 2ms/sample - loss: 1.0649 - accuracy: 0.5681 - val_loss: 1.2677 - val_accuracy: 0.2538\n",
      "Epoch 15/100\n",
      "1167/1167 [==============================] - 3s 2ms/sample - loss: 1.0576 - accuracy: 0.5793 - val_loss: 1.2590 - val_accuracy: 0.2692\n",
      "Epoch 16/100\n",
      "1167/1167 [==============================] - 3s 2ms/sample - loss: 1.0442 - accuracy: 0.5990 - val_loss: 1.2543 - val_accuracy: 0.2846\n",
      "Epoch 17/100\n",
      "1167/1167 [==============================] - 3s 2ms/sample - loss: 1.0226 - accuracy: 0.5844 - val_loss: 1.2327 - val_accuracy: 0.3154\n",
      "Epoch 18/100\n",
      "1167/1167 [==============================] - 3s 2ms/sample - loss: 1.0280 - accuracy: 0.5955 - val_loss: 1.2195 - val_accuracy: 0.3538\n",
      "Epoch 19/100\n",
      "1167/1167 [==============================] - 3s 2ms/sample - loss: 1.0101 - accuracy: 0.5973 - val_loss: 1.2107 - val_accuracy: 0.3769\n",
      "Epoch 20/100\n",
      "1167/1167 [==============================] - 3s 2ms/sample - loss: 1.0036 - accuracy: 0.5887 - val_loss: 1.2009 - val_accuracy: 0.4154\n",
      "Epoch 21/100\n",
      "1167/1167 [==============================] - 3s 2ms/sample - loss: 0.9883 - accuracy: 0.6127 - val_loss: 1.1931 - val_accuracy: 0.4385\n",
      "Epoch 22/100\n",
      "1167/1167 [==============================] - 3s 2ms/sample - loss: 0.9742 - accuracy: 0.6118 - val_loss: 1.1831 - val_accuracy: 0.4462\n",
      "Epoch 23/100\n",
      "1167/1167 [==============================] - 3s 2ms/sample - loss: 0.9650 - accuracy: 0.6195 - val_loss: 1.1751 - val_accuracy: 0.4462\n",
      "Epoch 24/100\n",
      "1167/1167 [==============================] - 3s 2ms/sample - loss: 0.9615 - accuracy: 0.6255 - val_loss: 1.1656 - val_accuracy: 0.4769\n",
      "Epoch 25/100\n",
      "1167/1167 [==============================] - 3s 2ms/sample - loss: 0.9467 - accuracy: 0.6255 - val_loss: 1.1538 - val_accuracy: 0.5077\n",
      "Epoch 26/100\n",
      "1167/1167 [==============================] - 3s 2ms/sample - loss: 0.9459 - accuracy: 0.6195 - val_loss: 1.1508 - val_accuracy: 0.5077\n",
      "Epoch 27/100\n",
      "1167/1167 [==============================] - 3s 2ms/sample - loss: 0.9375 - accuracy: 0.6238 - val_loss: 1.1377 - val_accuracy: 0.5154\n",
      "Epoch 28/100\n",
      "1167/1167 [==============================] - 3s 2ms/sample - loss: 0.9285 - accuracy: 0.6332 - val_loss: 1.1267 - val_accuracy: 0.5231\n",
      "Epoch 29/100\n",
      "1167/1167 [==============================] - 3s 2ms/sample - loss: 0.9275 - accuracy: 0.6358 - val_loss: 1.1236 - val_accuracy: 0.5308\n",
      "Epoch 30/100\n",
      "1167/1167 [==============================] - 3s 2ms/sample - loss: 0.9165 - accuracy: 0.6324 - val_loss: 1.1190 - val_accuracy: 0.5231\n",
      "Epoch 31/100\n",
      "1167/1167 [==============================] - 3s 2ms/sample - loss: 0.9095 - accuracy: 0.6315 - val_loss: 1.1106 - val_accuracy: 0.5462\n",
      "Epoch 32/100\n",
      "1167/1167 [==============================] - 3s 2ms/sample - loss: 0.9068 - accuracy: 0.6410 - val_loss: 1.1045 - val_accuracy: 0.5462\n",
      "Epoch 33/100\n",
      "1167/1167 [==============================] - 3s 2ms/sample - loss: 0.9033 - accuracy: 0.6375 - val_loss: 1.0940 - val_accuracy: 0.5462\n",
      "Epoch 34/100\n",
      "1167/1167 [==============================] - 3s 2ms/sample - loss: 0.8879 - accuracy: 0.6487 - val_loss: 1.0902 - val_accuracy: 0.5462\n",
      "Epoch 35/100\n",
      "1167/1167 [==============================] - 3s 2ms/sample - loss: 0.8725 - accuracy: 0.6795 - val_loss: 1.0822 - val_accuracy: 0.5538\n",
      "Epoch 36/100\n",
      "1167/1167 [==============================] - 3s 2ms/sample - loss: 0.8955 - accuracy: 0.6392 - val_loss: 1.0819 - val_accuracy: 0.5538\n",
      "Epoch 37/100\n",
      "1167/1167 [==============================] - 3s 2ms/sample - loss: 0.8803 - accuracy: 0.6547 - val_loss: 1.0692 - val_accuracy: 0.5538\n",
      "Epoch 38/100\n",
      "1167/1167 [==============================] - 3s 2ms/sample - loss: 0.8658 - accuracy: 0.6547 - val_loss: 1.0746 - val_accuracy: 0.5538\n",
      "Epoch 39/100\n",
      "1167/1167 [==============================] - 3s 2ms/sample - loss: 0.8603 - accuracy: 0.6572 - val_loss: 1.0657 - val_accuracy: 0.5538\n",
      "Epoch 40/100\n",
      "1167/1167 [==============================] - 3s 2ms/sample - loss: 0.8509 - accuracy: 0.6667 - val_loss: 1.0602 - val_accuracy: 0.5538\n",
      "Epoch 41/100\n",
      "1167/1167 [==============================] - 3s 2ms/sample - loss: 0.8518 - accuracy: 0.6495 - val_loss: 1.0561 - val_accuracy: 0.5538\n",
      "Epoch 42/100\n",
      "1167/1167 [==============================] - 3s 2ms/sample - loss: 0.8523 - accuracy: 0.6615 - val_loss: 1.0493 - val_accuracy: 0.5692\n",
      "Epoch 43/100\n",
      "1167/1167 [==============================] - 3s 2ms/sample - loss: 0.8470 - accuracy: 0.6650 - val_loss: 1.0490 - val_accuracy: 0.5692\n",
      "Epoch 44/100\n",
      "1167/1167 [==============================] - 3s 2ms/sample - loss: 0.8457 - accuracy: 0.6692 - val_loss: 1.0455 - val_accuracy: 0.5769\n",
      "Epoch 45/100\n",
      "1167/1167 [==============================] - 3s 2ms/sample - loss: 0.8306 - accuracy: 0.6795 - val_loss: 1.0436 - val_accuracy: 0.5769\n",
      "Epoch 46/100\n",
      "1167/1167 [==============================] - 3s 2ms/sample - loss: 0.8267 - accuracy: 0.6684 - val_loss: 1.0394 - val_accuracy: 0.5769\n",
      "Epoch 47/100\n",
      "1167/1167 [==============================] - 3s 2ms/sample - loss: 0.8341 - accuracy: 0.6555 - val_loss: 1.0296 - val_accuracy: 0.5769\n",
      "Epoch 48/100\n",
      "1167/1167 [==============================] - 3s 2ms/sample - loss: 0.8241 - accuracy: 0.6615 - val_loss: 1.0302 - val_accuracy: 0.5846\n",
      "Epoch 49/100\n",
      "1167/1167 [==============================] - 3s 2ms/sample - loss: 0.8239 - accuracy: 0.6675 - val_loss: 1.0247 - val_accuracy: 0.5769\n",
      "Epoch 50/100\n",
      "1167/1167 [==============================] - 3s 2ms/sample - loss: 0.8145 - accuracy: 0.6735 - val_loss: 1.0180 - val_accuracy: 0.5923\n",
      "Epoch 51/100\n",
      "1167/1167 [==============================] - 3s 2ms/sample - loss: 0.8194 - accuracy: 0.6778 - val_loss: 1.0130 - val_accuracy: 0.5923\n",
      "Epoch 52/100\n",
      "1167/1167 [==============================] - 3s 2ms/sample - loss: 0.8137 - accuracy: 0.6735 - val_loss: 1.0092 - val_accuracy: 0.6000\n",
      "Epoch 53/100\n",
      "1167/1167 [==============================] - 3s 2ms/sample - loss: 0.8143 - accuracy: 0.6667 - val_loss: 1.0183 - val_accuracy: 0.5769\n",
      "Epoch 54/100\n",
      "1167/1167 [==============================] - 3s 2ms/sample - loss: 0.8030 - accuracy: 0.6829 - val_loss: 1.0125 - val_accuracy: 0.5846\n",
      "Epoch 55/100\n",
      "1167/1167 [==============================] - 3s 2ms/sample - loss: 0.8077 - accuracy: 0.6692 - val_loss: 1.0123 - val_accuracy: 0.5846\n",
      "Epoch 56/100\n"
     ]
    },
    {
     "name": "stdout",
     "output_type": "stream",
     "text": [
      "1167/1167 [==============================] - 3s 2ms/sample - loss: 0.8034 - accuracy: 0.6821 - val_loss: 1.0127 - val_accuracy: 0.5846\n",
      "Epoch 57/100\n",
      "1167/1167 [==============================] - 3s 2ms/sample - loss: 0.8002 - accuracy: 0.6769 - val_loss: 1.0077 - val_accuracy: 0.5846\n",
      "Epoch 58/100\n",
      "1167/1167 [==============================] - 3s 2ms/sample - loss: 0.7928 - accuracy: 0.6778 - val_loss: 0.9994 - val_accuracy: 0.5923\n",
      "Epoch 59/100\n",
      "1167/1167 [==============================] - 3s 2ms/sample - loss: 0.7945 - accuracy: 0.6829 - val_loss: 1.0039 - val_accuracy: 0.5846\n",
      "Epoch 60/100\n",
      "1167/1167 [==============================] - 3s 2ms/sample - loss: 0.8006 - accuracy: 0.6804 - val_loss: 0.9981 - val_accuracy: 0.5923\n",
      "Epoch 61/100\n",
      "1167/1167 [==============================] - 3s 2ms/sample - loss: 0.7684 - accuracy: 0.6924 - val_loss: 0.9956 - val_accuracy: 0.5923\n",
      "Epoch 62/100\n",
      "1167/1167 [==============================] - 3s 2ms/sample - loss: 0.7878 - accuracy: 0.6958 - val_loss: 0.9910 - val_accuracy: 0.6000\n",
      "Epoch 63/100\n",
      "1167/1167 [==============================] - 3s 2ms/sample - loss: 0.7853 - accuracy: 0.6855 - val_loss: 0.9847 - val_accuracy: 0.6000\n",
      "Epoch 64/100\n",
      "1167/1167 [==============================] - 3s 2ms/sample - loss: 0.7964 - accuracy: 0.6744 - val_loss: 0.9869 - val_accuracy: 0.5923\n",
      "Epoch 65/100\n",
      "1167/1167 [==============================] - 3s 2ms/sample - loss: 0.7865 - accuracy: 0.6975 - val_loss: 0.9956 - val_accuracy: 0.5846\n",
      "Epoch 66/100\n",
      "1167/1167 [==============================] - 3s 2ms/sample - loss: 0.7743 - accuracy: 0.7001 - val_loss: 0.9849 - val_accuracy: 0.6000\n",
      "Epoch 67/100\n",
      "1167/1167 [==============================] - 3s 2ms/sample - loss: 0.7801 - accuracy: 0.6812 - val_loss: 0.9846 - val_accuracy: 0.6000\n",
      "Epoch 68/100\n",
      "1167/1167 [==============================] - 3s 2ms/sample - loss: 0.7639 - accuracy: 0.6949 - val_loss: 0.9848 - val_accuracy: 0.5923\n",
      "Epoch 69/100\n",
      "1167/1167 [==============================] - 3s 2ms/sample - loss: 0.7604 - accuracy: 0.6967 - val_loss: 0.9830 - val_accuracy: 0.6077\n",
      "Epoch 70/100\n",
      "1167/1167 [==============================] - 3s 2ms/sample - loss: 0.7708 - accuracy: 0.6855 - val_loss: 0.9758 - val_accuracy: 0.6154\n",
      "Epoch 71/100\n",
      "1167/1167 [==============================] - 3s 2ms/sample - loss: 0.7560 - accuracy: 0.7001 - val_loss: 0.9726 - val_accuracy: 0.6154\n",
      "Epoch 72/100\n",
      "1167/1167 [==============================] - 3s 2ms/sample - loss: 0.7676 - accuracy: 0.6975 - val_loss: 0.9783 - val_accuracy: 0.6077\n",
      "Epoch 73/100\n",
      "1167/1167 [==============================] - 3s 2ms/sample - loss: 0.7701 - accuracy: 0.6838 - val_loss: 0.9746 - val_accuracy: 0.6077\n",
      "Epoch 74/100\n",
      "1167/1167 [==============================] - 3s 2ms/sample - loss: 0.7547 - accuracy: 0.7001 - val_loss: 0.9635 - val_accuracy: 0.6154\n",
      "Epoch 75/100\n",
      "1167/1167 [==============================] - 3s 2ms/sample - loss: 0.7581 - accuracy: 0.6872 - val_loss: 0.9694 - val_accuracy: 0.6154\n",
      "Epoch 76/100\n",
      "1167/1167 [==============================] - 3s 2ms/sample - loss: 0.7558 - accuracy: 0.6932 - val_loss: 0.9679 - val_accuracy: 0.6154\n",
      "Epoch 77/100\n",
      "1167/1167 [==============================] - 3s 2ms/sample - loss: 0.7540 - accuracy: 0.6992 - val_loss: 0.9761 - val_accuracy: 0.6077\n",
      "Epoch 78/100\n",
      "1167/1167 [==============================] - 3s 2ms/sample - loss: 0.7514 - accuracy: 0.7061 - val_loss: 0.9744 - val_accuracy: 0.6077\n",
      "Epoch 79/100\n",
      "1167/1167 [==============================] - 3s 2ms/sample - loss: 0.7496 - accuracy: 0.6924 - val_loss: 0.9713 - val_accuracy: 0.6077\n",
      "Epoch 80/100\n",
      "1167/1167 [==============================] - 3s 2ms/sample - loss: 0.7482 - accuracy: 0.6992 - val_loss: 0.9689 - val_accuracy: 0.6154\n",
      "Epoch 81/100\n",
      "1167/1167 [==============================] - 3s 2ms/sample - loss: 0.7493 - accuracy: 0.6949 - val_loss: 0.9634 - val_accuracy: 0.6154\n",
      "Epoch 82/100\n",
      "1167/1167 [==============================] - 3s 2ms/sample - loss: 0.7550 - accuracy: 0.6992 - val_loss: 0.9598 - val_accuracy: 0.6154\n",
      "Epoch 83/100\n",
      "1167/1167 [==============================] - 3s 2ms/sample - loss: 0.7432 - accuracy: 0.7095 - val_loss: 0.9579 - val_accuracy: 0.6154\n",
      "Epoch 84/100\n",
      "1167/1167 [==============================] - 3s 2ms/sample - loss: 0.7408 - accuracy: 0.7121 - val_loss: 0.9615 - val_accuracy: 0.6154\n",
      "Epoch 85/100\n",
      "1167/1167 [==============================] - 3s 2ms/sample - loss: 0.7392 - accuracy: 0.7155 - val_loss: 0.9599 - val_accuracy: 0.6154\n",
      "Epoch 86/100\n",
      "1167/1167 [==============================] - 3s 2ms/sample - loss: 0.7483 - accuracy: 0.6984 - val_loss: 0.9511 - val_accuracy: 0.6308\n",
      "Epoch 87/100\n",
      "1167/1167 [==============================] - 3s 2ms/sample - loss: 0.7465 - accuracy: 0.7035 - val_loss: 0.9599 - val_accuracy: 0.6154\n",
      "Epoch 88/100\n",
      "1167/1167 [==============================] - 3s 2ms/sample - loss: 0.7427 - accuracy: 0.7044 - val_loss: 0.9564 - val_accuracy: 0.6231\n",
      "Epoch 89/100\n",
      "1167/1167 [==============================] - 3s 2ms/sample - loss: 0.7367 - accuracy: 0.7035 - val_loss: 0.9652 - val_accuracy: 0.6077\n",
      "Epoch 90/100\n",
      "1167/1167 [==============================] - 3s 2ms/sample - loss: 0.7303 - accuracy: 0.7121 - val_loss: 0.9587 - val_accuracy: 0.6154\n",
      "Epoch 91/100\n",
      "1167/1167 [==============================] - 3s 2ms/sample - loss: 0.7342 - accuracy: 0.7044 - val_loss: 0.9526 - val_accuracy: 0.6308\n",
      "Epoch 92/100\n",
      "1167/1167 [==============================] - 3s 2ms/sample - loss: 0.7363 - accuracy: 0.7164 - val_loss: 0.9578 - val_accuracy: 0.6231\n",
      "Epoch 93/100\n",
      "1167/1167 [==============================] - 3s 2ms/sample - loss: 0.7316 - accuracy: 0.7061 - val_loss: 0.9523 - val_accuracy: 0.6231\n",
      "Epoch 94/100\n",
      "1167/1167 [==============================] - 3s 2ms/sample - loss: 0.7174 - accuracy: 0.7266 - val_loss: 0.9535 - val_accuracy: 0.6231\n",
      "Epoch 95/100\n",
      "1167/1167 [==============================] - 3s 2ms/sample - loss: 0.7225 - accuracy: 0.7027 - val_loss: 0.9497 - val_accuracy: 0.6231\n",
      "Epoch 96/100\n",
      "1167/1167 [==============================] - 3s 2ms/sample - loss: 0.7273 - accuracy: 0.7027 - val_loss: 0.9543 - val_accuracy: 0.6231\n",
      "Epoch 97/100\n",
      "1167/1167 [==============================] - 3s 2ms/sample - loss: 0.7133 - accuracy: 0.7044 - val_loss: 0.9469 - val_accuracy: 0.6231\n",
      "Epoch 98/100\n",
      "1167/1167 [==============================] - 3s 2ms/sample - loss: 0.7285 - accuracy: 0.7155 - val_loss: 0.9452 - val_accuracy: 0.6231\n",
      "Epoch 99/100\n",
      "1167/1167 [==============================] - 3s 2ms/sample - loss: 0.7177 - accuracy: 0.7138 - val_loss: 0.9470 - val_accuracy: 0.6231\n",
      "Epoch 100/100\n",
      "1167/1167 [==============================] - 3s 2ms/sample - loss: 0.7289 - accuracy: 0.7052 - val_loss: 0.9531 - val_accuracy: 0.6231\n"
     ]
    },
    {
     "data": {
      "text/plain": [
       "<tensorflow.python.keras.callbacks.History at 0x271c65d4a8>"
      ]
     },
     "execution_count": 76,
     "metadata": {},
     "output_type": "execute_result"
    }
   ],
   "source": [
    "from tensorflow.keras.utils import to_categorical\n",
    "model.fit(x= data_, y = to_categorical(new_labels), epochs=100, validation_split=.1)"
   ]
  },
  {
   "cell_type": "markdown",
   "metadata": {},
   "source": [
    "#### Fine tunning full model"
   ]
  },
  {
   "cell_type": "code",
   "execution_count": 77,
   "metadata": {
    "scrolled": true
   },
   "outputs": [
    {
     "name": "stdout",
     "output_type": "stream",
     "text": [
      "Train on 1167 samples, validate on 130 samples\n",
      "Epoch 1/300\n",
      "1167/1167 [==============================] - 17s 15ms/sample - loss: 0.7144 - accuracy: 0.7104 - val_loss: 0.9370 - val_accuracy: 0.6308\n",
      "Epoch 2/300\n",
      "1167/1167 [==============================] - 8s 7ms/sample - loss: 0.7049 - accuracy: 0.7078 - val_loss: 0.9307 - val_accuracy: 0.6154\n",
      "Epoch 3/300\n",
      "1167/1167 [==============================] - 8s 7ms/sample - loss: 0.6987 - accuracy: 0.7172 - val_loss: 0.9289 - val_accuracy: 0.6077\n",
      "Epoch 4/300\n",
      "1167/1167 [==============================] - 8s 7ms/sample - loss: 0.6924 - accuracy: 0.7138 - val_loss: 0.9252 - val_accuracy: 0.6231\n",
      "Epoch 5/300\n",
      "1167/1167 [==============================] - 8s 7ms/sample - loss: 0.6838 - accuracy: 0.7155 - val_loss: 0.9207 - val_accuracy: 0.6308\n",
      "Epoch 6/300\n",
      "1167/1167 [==============================] - 8s 7ms/sample - loss: 0.6781 - accuracy: 0.7147 - val_loss: 0.9266 - val_accuracy: 0.6308\n",
      "Epoch 7/300\n",
      "1167/1167 [==============================] - 8s 7ms/sample - loss: 0.6802 - accuracy: 0.7215 - val_loss: 0.9238 - val_accuracy: 0.6308\n",
      "Epoch 8/300\n",
      "1167/1167 [==============================] - 8s 7ms/sample - loss: 0.6799 - accuracy: 0.7266 - val_loss: 0.9322 - val_accuracy: 0.6308\n",
      "Epoch 9/300\n",
      "1167/1167 [==============================] - 8s 7ms/sample - loss: 0.6670 - accuracy: 0.7164 - val_loss: 0.9352 - val_accuracy: 0.6308\n",
      "Epoch 10/300\n",
      "1167/1167 [==============================] - 8s 7ms/sample - loss: 0.6829 - accuracy: 0.7129 - val_loss: 0.9272 - val_accuracy: 0.6385\n",
      "Epoch 11/300\n",
      "1167/1167 [==============================] - 8s 7ms/sample - loss: 0.6428 - accuracy: 0.7352 - val_loss: 0.9338 - val_accuracy: 0.6308\n",
      "Epoch 12/300\n",
      "1167/1167 [==============================] - 8s 7ms/sample - loss: 0.6553 - accuracy: 0.7344 - val_loss: 0.9278 - val_accuracy: 0.6308\n",
      "Epoch 13/300\n",
      "1167/1167 [==============================] - 8s 7ms/sample - loss: 0.6567 - accuracy: 0.7138 - val_loss: 0.9233 - val_accuracy: 0.6308\n",
      "Epoch 14/300\n",
      "1167/1167 [==============================] - 8s 7ms/sample - loss: 0.6534 - accuracy: 0.7266 - val_loss: 0.9251 - val_accuracy: 0.6308\n",
      "Epoch 15/300\n",
      "1167/1167 [==============================] - 8s 7ms/sample - loss: 0.6626 - accuracy: 0.7198 - val_loss: 0.9320 - val_accuracy: 0.6308\n",
      "Epoch 16/300\n",
      "1167/1167 [==============================] - 8s 7ms/sample - loss: 0.6675 - accuracy: 0.7198 - val_loss: 0.9302 - val_accuracy: 0.6308\n",
      "Epoch 17/300\n",
      "1167/1167 [==============================] - 8s 7ms/sample - loss: 0.6593 - accuracy: 0.7181 - val_loss: 0.9348 - val_accuracy: 0.6308\n",
      "Epoch 18/300\n",
      "1167/1167 [==============================] - 8s 7ms/sample - loss: 0.6399 - accuracy: 0.7404 - val_loss: 0.9364 - val_accuracy: 0.6308\n",
      "Epoch 19/300\n",
      "1167/1167 [==============================] - 8s 7ms/sample - loss: 0.6505 - accuracy: 0.7369 - val_loss: 0.9378 - val_accuracy: 0.6308\n",
      "Epoch 20/300\n",
      "1167/1167 [==============================] - 8s 7ms/sample - loss: 0.6667 - accuracy: 0.7275 - val_loss: 0.9495 - val_accuracy: 0.6308\n",
      "Epoch 21/300\n",
      "1167/1167 [==============================] - 8s 7ms/sample - loss: 0.6524 - accuracy: 0.7335 - val_loss: 0.9498 - val_accuracy: 0.6308\n",
      "Epoch 22/300\n",
      "1167/1167 [==============================] - 8s 7ms/sample - loss: 0.6472 - accuracy: 0.7446 - val_loss: 0.9346 - val_accuracy: 0.6308\n",
      "Epoch 23/300\n",
      "1167/1167 [==============================] - 8s 7ms/sample - loss: 0.6309 - accuracy: 0.7361 - val_loss: 0.9351 - val_accuracy: 0.6308\n",
      "Epoch 24/300\n",
      "1167/1167 [==============================] - 8s 7ms/sample - loss: 0.6485 - accuracy: 0.7386 - val_loss: 0.9330 - val_accuracy: 0.6308\n",
      "Epoch 25/300\n",
      "1167/1167 [==============================] - 8s 7ms/sample - loss: 0.6536 - accuracy: 0.7181 - val_loss: 0.9251 - val_accuracy: 0.6308\n",
      "Epoch 26/300\n",
      "1167/1167 [==============================] - 8s 7ms/sample - loss: 0.6385 - accuracy: 0.7446 - val_loss: 0.9268 - val_accuracy: 0.6385\n",
      "Epoch 27/300\n",
      "1167/1167 [==============================] - 8s 7ms/sample - loss: 0.6383 - accuracy: 0.7326 - val_loss: 0.9353 - val_accuracy: 0.6462\n",
      "Epoch 28/300\n",
      "1167/1167 [==============================] - 8s 7ms/sample - loss: 0.6426 - accuracy: 0.7386 - val_loss: 0.9331 - val_accuracy: 0.6385\n",
      "Epoch 29/300\n",
      "1167/1167 [==============================] - 8s 7ms/sample - loss: 0.6427 - accuracy: 0.7335 - val_loss: 0.9322 - val_accuracy: 0.6385\n",
      "Epoch 30/300\n",
      "1167/1167 [==============================] - 8s 7ms/sample - loss: 0.6378 - accuracy: 0.7464 - val_loss: 0.9384 - val_accuracy: 0.6385\n",
      "Epoch 31/300\n",
      "1167/1167 [==============================] - 8s 7ms/sample - loss: 0.6543 - accuracy: 0.7386 - val_loss: 0.9336 - val_accuracy: 0.6462\n",
      "Epoch 32/300\n",
      "1167/1167 [==============================] - 8s 7ms/sample - loss: 0.6264 - accuracy: 0.7361 - val_loss: 0.9314 - val_accuracy: 0.6385\n",
      "Epoch 33/300\n",
      "1167/1167 [==============================] - 8s 7ms/sample - loss: 0.6224 - accuracy: 0.7532 - val_loss: 0.9330 - val_accuracy: 0.6385\n",
      "Epoch 34/300\n",
      "1167/1167 [==============================] - 8s 7ms/sample - loss: 0.6323 - accuracy: 0.7309 - val_loss: 0.9309 - val_accuracy: 0.6385\n",
      "Epoch 35/300\n",
      "1167/1167 [==============================] - 8s 7ms/sample - loss: 0.6263 - accuracy: 0.7404 - val_loss: 0.9329 - val_accuracy: 0.6308\n",
      "Epoch 36/300\n",
      "1167/1167 [==============================] - 8s 7ms/sample - loss: 0.6203 - accuracy: 0.7369 - val_loss: 0.9289 - val_accuracy: 0.6385\n",
      "Epoch 37/300\n",
      "1167/1167 [==============================] - 8s 7ms/sample - loss: 0.6247 - accuracy: 0.7489 - val_loss: 0.9347 - val_accuracy: 0.6385\n",
      "Epoch 38/300\n",
      "1167/1167 [==============================] - 8s 7ms/sample - loss: 0.6118 - accuracy: 0.7369 - val_loss: 0.9241 - val_accuracy: 0.6462\n",
      "Epoch 39/300\n",
      "1167/1167 [==============================] - 8s 7ms/sample - loss: 0.6255 - accuracy: 0.7438 - val_loss: 0.9281 - val_accuracy: 0.6462\n",
      "Epoch 40/300\n",
      "1167/1167 [==============================] - 8s 7ms/sample - loss: 0.6165 - accuracy: 0.7429 - val_loss: 0.9236 - val_accuracy: 0.6462\n",
      "Epoch 41/300\n",
      "1167/1167 [==============================] - 8s 7ms/sample - loss: 0.6155 - accuracy: 0.7429 - val_loss: 0.9269 - val_accuracy: 0.6385\n",
      "Epoch 42/300\n",
      "1167/1167 [==============================] - 8s 7ms/sample - loss: 0.6226 - accuracy: 0.7386 - val_loss: 0.9186 - val_accuracy: 0.6385\n",
      "Epoch 43/300\n",
      "1167/1167 [==============================] - 8s 7ms/sample - loss: 0.6291 - accuracy: 0.7335 - val_loss: 0.9208 - val_accuracy: 0.6385\n",
      "Epoch 44/300\n",
      "1167/1167 [==============================] - 8s 7ms/sample - loss: 0.6377 - accuracy: 0.7404 - val_loss: 0.9194 - val_accuracy: 0.6538\n",
      "Epoch 45/300\n",
      "1167/1167 [==============================] - 8s 7ms/sample - loss: 0.6012 - accuracy: 0.7438 - val_loss: 0.9250 - val_accuracy: 0.6385\n",
      "Epoch 46/300\n",
      "1167/1167 [==============================] - 8s 7ms/sample - loss: 0.5996 - accuracy: 0.7541 - val_loss: 0.9266 - val_accuracy: 0.6538\n",
      "Epoch 47/300\n",
      "1167/1167 [==============================] - 8s 7ms/sample - loss: 0.6126 - accuracy: 0.7446 - val_loss: 0.9229 - val_accuracy: 0.6538\n",
      "Epoch 48/300\n",
      "1167/1167 [==============================] - 8s 7ms/sample - loss: 0.6178 - accuracy: 0.7429 - val_loss: 0.9246 - val_accuracy: 0.6538\n",
      "Epoch 49/300\n",
      "1167/1167 [==============================] - 8s 7ms/sample - loss: 0.6265 - accuracy: 0.7404 - val_loss: 0.9180 - val_accuracy: 0.6538\n",
      "Epoch 50/300\n",
      "1167/1167 [==============================] - 8s 7ms/sample - loss: 0.6207 - accuracy: 0.7446 - val_loss: 0.9149 - val_accuracy: 0.6538\n",
      "Epoch 51/300\n",
      "1167/1167 [==============================] - 8s 7ms/sample - loss: 0.6015 - accuracy: 0.7592 - val_loss: 0.9134 - val_accuracy: 0.6538\n",
      "Epoch 52/300\n",
      "1167/1167 [==============================] - 8s 7ms/sample - loss: 0.6092 - accuracy: 0.7541 - val_loss: 0.9131 - val_accuracy: 0.6538\n",
      "Epoch 53/300\n",
      "1167/1167 [==============================] - 8s 7ms/sample - loss: 0.6140 - accuracy: 0.7498 - val_loss: 0.9091 - val_accuracy: 0.6538\n",
      "Epoch 54/300\n",
      "1167/1167 [==============================] - 8s 7ms/sample - loss: 0.5885 - accuracy: 0.7566 - val_loss: 0.9163 - val_accuracy: 0.6538\n",
      "Epoch 55/300\n",
      "1167/1167 [==============================] - 8s 7ms/sample - loss: 0.6010 - accuracy: 0.7566 - val_loss: 0.9135 - val_accuracy: 0.6615\n",
      "Epoch 56/300\n"
     ]
    },
    {
     "name": "stdout",
     "output_type": "stream",
     "text": [
      "1167/1167 [==============================] - 8s 7ms/sample - loss: 0.6133 - accuracy: 0.7464 - val_loss: 0.9084 - val_accuracy: 0.6538\n",
      "Epoch 57/300\n",
      "1167/1167 [==============================] - 8s 7ms/sample - loss: 0.6051 - accuracy: 0.7429 - val_loss: 0.9054 - val_accuracy: 0.6538\n",
      "Epoch 58/300\n",
      "1167/1167 [==============================] - 8s 7ms/sample - loss: 0.6087 - accuracy: 0.7549 - val_loss: 0.9023 - val_accuracy: 0.6538\n",
      "Epoch 59/300\n",
      "1167/1167 [==============================] - 8s 7ms/sample - loss: 0.5862 - accuracy: 0.7635 - val_loss: 0.9015 - val_accuracy: 0.6692\n",
      "Epoch 60/300\n",
      "1167/1167 [==============================] - 8s 7ms/sample - loss: 0.6009 - accuracy: 0.7506 - val_loss: 0.9060 - val_accuracy: 0.6769\n",
      "Epoch 61/300\n",
      "1167/1167 [==============================] - 8s 7ms/sample - loss: 0.5895 - accuracy: 0.7601 - val_loss: 0.9055 - val_accuracy: 0.6846\n",
      "Epoch 62/300\n",
      "1167/1167 [==============================] - 8s 7ms/sample - loss: 0.6084 - accuracy: 0.7464 - val_loss: 0.9096 - val_accuracy: 0.6846\n",
      "Epoch 63/300\n",
      "1167/1167 [==============================] - 8s 7ms/sample - loss: 0.5984 - accuracy: 0.7438 - val_loss: 0.8998 - val_accuracy: 0.6846\n",
      "Epoch 64/300\n",
      "1167/1167 [==============================] - 8s 7ms/sample - loss: 0.5875 - accuracy: 0.7584 - val_loss: 0.8975 - val_accuracy: 0.6769\n",
      "Epoch 65/300\n",
      "1167/1167 [==============================] - 8s 7ms/sample - loss: 0.5993 - accuracy: 0.7618 - val_loss: 0.8985 - val_accuracy: 0.6769\n",
      "Epoch 66/300\n",
      "1167/1167 [==============================] - 8s 7ms/sample - loss: 0.5813 - accuracy: 0.7541 - val_loss: 0.8995 - val_accuracy: 0.6769\n",
      "Epoch 67/300\n",
      "1167/1167 [==============================] - 8s 7ms/sample - loss: 0.6046 - accuracy: 0.7412 - val_loss: 0.8971 - val_accuracy: 0.6769\n",
      "Epoch 68/300\n",
      "1167/1167 [==============================] - 8s 7ms/sample - loss: 0.5826 - accuracy: 0.7644 - val_loss: 0.9019 - val_accuracy: 0.6769\n",
      "Epoch 69/300\n",
      "1167/1167 [==============================] - 8s 7ms/sample - loss: 0.5929 - accuracy: 0.7592 - val_loss: 0.9053 - val_accuracy: 0.6769\n",
      "Epoch 70/300\n",
      "1167/1167 [==============================] - 8s 7ms/sample - loss: 0.5684 - accuracy: 0.7738 - val_loss: 0.9019 - val_accuracy: 0.6769\n",
      "Epoch 71/300\n",
      "1167/1167 [==============================] - 8s 7ms/sample - loss: 0.5812 - accuracy: 0.7584 - val_loss: 0.9026 - val_accuracy: 0.6769\n",
      "Epoch 72/300\n",
      "1167/1167 [==============================] - 8s 7ms/sample - loss: 0.5798 - accuracy: 0.7601 - val_loss: 0.8950 - val_accuracy: 0.6769\n",
      "Epoch 73/300\n",
      "1167/1167 [==============================] - 8s 7ms/sample - loss: 0.5942 - accuracy: 0.7618 - val_loss: 0.8978 - val_accuracy: 0.6846\n",
      "Epoch 74/300\n",
      "1167/1167 [==============================] - 8s 7ms/sample - loss: 0.5836 - accuracy: 0.7566 - val_loss: 0.8988 - val_accuracy: 0.6769\n",
      "Epoch 75/300\n",
      "1167/1167 [==============================] - 8s 7ms/sample - loss: 0.5896 - accuracy: 0.7549 - val_loss: 0.8903 - val_accuracy: 0.6846\n",
      "Epoch 76/300\n",
      "1167/1167 [==============================] - 8s 7ms/sample - loss: 0.5823 - accuracy: 0.7678 - val_loss: 0.8946 - val_accuracy: 0.6769\n",
      "Epoch 77/300\n",
      "1167/1167 [==============================] - 8s 7ms/sample - loss: 0.5695 - accuracy: 0.7644 - val_loss: 0.8867 - val_accuracy: 0.6769\n",
      "Epoch 78/300\n",
      "1167/1167 [==============================] - 8s 7ms/sample - loss: 0.5825 - accuracy: 0.7532 - val_loss: 0.8910 - val_accuracy: 0.6769\n",
      "Epoch 79/300\n",
      "1167/1167 [==============================] - 8s 7ms/sample - loss: 0.5808 - accuracy: 0.7592 - val_loss: 0.8951 - val_accuracy: 0.6769\n",
      "Epoch 80/300\n",
      "1167/1167 [==============================] - 8s 7ms/sample - loss: 0.5787 - accuracy: 0.7609 - val_loss: 0.8848 - val_accuracy: 0.6769\n",
      "Epoch 81/300\n",
      "1167/1167 [==============================] - 8s 7ms/sample - loss: 0.5729 - accuracy: 0.7592 - val_loss: 0.8920 - val_accuracy: 0.6769\n",
      "Epoch 82/300\n",
      "1167/1167 [==============================] - 8s 7ms/sample - loss: 0.5737 - accuracy: 0.7626 - val_loss: 0.8819 - val_accuracy: 0.6846\n",
      "Epoch 83/300\n",
      "1167/1167 [==============================] - 8s 7ms/sample - loss: 0.5632 - accuracy: 0.7729 - val_loss: 0.8859 - val_accuracy: 0.6769\n",
      "Epoch 84/300\n",
      "1167/1167 [==============================] - 8s 7ms/sample - loss: 0.5713 - accuracy: 0.7635 - val_loss: 0.8843 - val_accuracy: 0.6846\n",
      "Epoch 85/300\n",
      "1167/1167 [==============================] - 8s 7ms/sample - loss: 0.5750 - accuracy: 0.7746 - val_loss: 0.8835 - val_accuracy: 0.6846\n",
      "Epoch 86/300\n",
      "1167/1167 [==============================] - 8s 7ms/sample - loss: 0.5798 - accuracy: 0.7601 - val_loss: 0.8896 - val_accuracy: 0.6846\n",
      "Epoch 87/300\n",
      "1167/1167 [==============================] - 8s 7ms/sample - loss: 0.5607 - accuracy: 0.7704 - val_loss: 0.8844 - val_accuracy: 0.6846\n",
      "Epoch 88/300\n",
      "1167/1167 [==============================] - 8s 7ms/sample - loss: 0.5511 - accuracy: 0.7772 - val_loss: 0.8864 - val_accuracy: 0.6846\n",
      "Epoch 89/300\n",
      "1167/1167 [==============================] - 8s 7ms/sample - loss: 0.5717 - accuracy: 0.7729 - val_loss: 0.8799 - val_accuracy: 0.6846\n",
      "Epoch 90/300\n",
      "1167/1167 [==============================] - 8s 7ms/sample - loss: 0.5720 - accuracy: 0.7704 - val_loss: 0.8804 - val_accuracy: 0.6846\n",
      "Epoch 91/300\n",
      "1167/1167 [==============================] - 8s 7ms/sample - loss: 0.5539 - accuracy: 0.7721 - val_loss: 0.8814 - val_accuracy: 0.6846\n",
      "Epoch 92/300\n",
      "1167/1167 [==============================] - 8s 7ms/sample - loss: 0.5537 - accuracy: 0.7755 - val_loss: 0.8863 - val_accuracy: 0.6846\n",
      "Epoch 93/300\n",
      "1167/1167 [==============================] - 8s 7ms/sample - loss: 0.5514 - accuracy: 0.7849 - val_loss: 0.8889 - val_accuracy: 0.6846\n",
      "Epoch 94/300\n",
      "1167/1167 [==============================] - 8s 7ms/sample - loss: 0.5571 - accuracy: 0.7712 - val_loss: 0.8868 - val_accuracy: 0.6846\n",
      "Epoch 95/300\n",
      "1167/1167 [==============================] - 8s 7ms/sample - loss: 0.5541 - accuracy: 0.7712 - val_loss: 0.8807 - val_accuracy: 0.6846\n",
      "Epoch 96/300\n",
      "1167/1167 [==============================] - 8s 7ms/sample - loss: 0.5615 - accuracy: 0.7781 - val_loss: 0.8794 - val_accuracy: 0.6846\n",
      "Epoch 97/300\n",
      "1167/1167 [==============================] - 8s 7ms/sample - loss: 0.5530 - accuracy: 0.7806 - val_loss: 0.8824 - val_accuracy: 0.6846\n",
      "Epoch 98/300\n",
      "1167/1167 [==============================] - 8s 7ms/sample - loss: 0.5524 - accuracy: 0.7798 - val_loss: 0.8813 - val_accuracy: 0.6846\n",
      "Epoch 99/300\n",
      "1167/1167 [==============================] - 8s 7ms/sample - loss: 0.5409 - accuracy: 0.7772 - val_loss: 0.8789 - val_accuracy: 0.6846\n",
      "Epoch 100/300\n",
      "1167/1167 [==============================] - 8s 7ms/sample - loss: 0.5525 - accuracy: 0.7772 - val_loss: 0.8801 - val_accuracy: 0.6846\n",
      "Epoch 101/300\n",
      "1167/1167 [==============================] - 8s 7ms/sample - loss: 0.5342 - accuracy: 0.7892 - val_loss: 0.8781 - val_accuracy: 0.6846\n",
      "Epoch 102/300\n",
      "1167/1167 [==============================] - 8s 7ms/sample - loss: 0.5434 - accuracy: 0.7678 - val_loss: 0.8809 - val_accuracy: 0.6846\n",
      "Epoch 103/300\n",
      "1167/1167 [==============================] - 8s 7ms/sample - loss: 0.5529 - accuracy: 0.7892 - val_loss: 0.8739 - val_accuracy: 0.6846\n",
      "Epoch 104/300\n",
      "1167/1167 [==============================] - 8s 7ms/sample - loss: 0.5561 - accuracy: 0.7644 - val_loss: 0.8776 - val_accuracy: 0.6846\n",
      "Epoch 105/300\n",
      "1167/1167 [==============================] - 8s 7ms/sample - loss: 0.5463 - accuracy: 0.7635 - val_loss: 0.8737 - val_accuracy: 0.6846\n",
      "Epoch 106/300\n",
      "1167/1167 [==============================] - 8s 7ms/sample - loss: 0.5505 - accuracy: 0.7678 - val_loss: 0.8682 - val_accuracy: 0.6846\n",
      "Epoch 107/300\n",
      "1167/1167 [==============================] - 8s 7ms/sample - loss: 0.5383 - accuracy: 0.7823 - val_loss: 0.8654 - val_accuracy: 0.6846\n",
      "Epoch 108/300\n",
      "1167/1167 [==============================] - 8s 7ms/sample - loss: 0.5452 - accuracy: 0.7806 - val_loss: 0.8687 - val_accuracy: 0.6846\n",
      "Epoch 109/300\n",
      "1167/1167 [==============================] - 8s 7ms/sample - loss: 0.5375 - accuracy: 0.7849 - val_loss: 0.8735 - val_accuracy: 0.6769\n",
      "Epoch 110/300\n",
      "1167/1167 [==============================] - 8s 7ms/sample - loss: 0.5519 - accuracy: 0.7832 - val_loss: 0.8710 - val_accuracy: 0.6846\n",
      "Epoch 111/300\n"
     ]
    },
    {
     "name": "stdout",
     "output_type": "stream",
     "text": [
      "1167/1167 [==============================] - 8s 7ms/sample - loss: 0.5488 - accuracy: 0.7738 - val_loss: 0.8764 - val_accuracy: 0.6846\n",
      "Epoch 112/300\n",
      "1167/1167 [==============================] - 8s 7ms/sample - loss: 0.5337 - accuracy: 0.7815 - val_loss: 0.8699 - val_accuracy: 0.6846\n",
      "Epoch 113/300\n",
      "1167/1167 [==============================] - 8s 7ms/sample - loss: 0.5320 - accuracy: 0.7892 - val_loss: 0.8759 - val_accuracy: 0.6846\n",
      "Epoch 114/300\n",
      "1167/1167 [==============================] - 8s 7ms/sample - loss: 0.5364 - accuracy: 0.7849 - val_loss: 0.8761 - val_accuracy: 0.6846\n",
      "Epoch 115/300\n",
      "1167/1167 [==============================] - 8s 7ms/sample - loss: 0.5193 - accuracy: 0.7883 - val_loss: 0.8809 - val_accuracy: 0.6846\n",
      "Epoch 116/300\n",
      "1167/1167 [==============================] - 8s 7ms/sample - loss: 0.5303 - accuracy: 0.7883 - val_loss: 0.8775 - val_accuracy: 0.6846\n",
      "Epoch 117/300\n",
      "1167/1167 [==============================] - 8s 7ms/sample - loss: 0.5332 - accuracy: 0.7849 - val_loss: 0.8762 - val_accuracy: 0.6846\n",
      "Epoch 118/300\n",
      "1167/1167 [==============================] - 8s 7ms/sample - loss: 0.5241 - accuracy: 0.7901 - val_loss: 0.8735 - val_accuracy: 0.6846\n",
      "Epoch 119/300\n",
      "1167/1167 [==============================] - 8s 7ms/sample - loss: 0.5268 - accuracy: 0.7841 - val_loss: 0.8753 - val_accuracy: 0.6846\n",
      "Epoch 120/300\n",
      "1167/1167 [==============================] - 8s 7ms/sample - loss: 0.5371 - accuracy: 0.7789 - val_loss: 0.8780 - val_accuracy: 0.6846\n",
      "Epoch 121/300\n",
      "1167/1167 [==============================] - 8s 7ms/sample - loss: 0.5362 - accuracy: 0.7823 - val_loss: 0.8739 - val_accuracy: 0.6846\n",
      "Epoch 122/300\n",
      "1167/1167 [==============================] - 8s 7ms/sample - loss: 0.5287 - accuracy: 0.7832 - val_loss: 0.8703 - val_accuracy: 0.6846\n",
      "Epoch 123/300\n",
      "1167/1167 [==============================] - 8s 7ms/sample - loss: 0.5226 - accuracy: 0.7909 - val_loss: 0.8757 - val_accuracy: 0.6846\n",
      "Epoch 124/300\n",
      "1167/1167 [==============================] - 8s 7ms/sample - loss: 0.5202 - accuracy: 0.7969 - val_loss: 0.8752 - val_accuracy: 0.6846\n",
      "Epoch 125/300\n",
      "1167/1167 [==============================] - 8s 7ms/sample - loss: 0.5451 - accuracy: 0.7815 - val_loss: 0.8757 - val_accuracy: 0.6846\n",
      "Epoch 126/300\n",
      "1167/1167 [==============================] - 8s 7ms/sample - loss: 0.5418 - accuracy: 0.7823 - val_loss: 0.8717 - val_accuracy: 0.6846\n",
      "Epoch 127/300\n",
      "1167/1167 [==============================] - 8s 7ms/sample - loss: 0.5236 - accuracy: 0.7926 - val_loss: 0.8782 - val_accuracy: 0.6846\n",
      "Epoch 128/300\n",
      "1167/1167 [==============================] - 8s 7ms/sample - loss: 0.5075 - accuracy: 0.7918 - val_loss: 0.8725 - val_accuracy: 0.6846\n",
      "Epoch 129/300\n",
      "1167/1167 [==============================] - 8s 7ms/sample - loss: 0.5288 - accuracy: 0.7883 - val_loss: 0.8811 - val_accuracy: 0.6846\n",
      "Epoch 130/300\n",
      "1167/1167 [==============================] - 8s 7ms/sample - loss: 0.5344 - accuracy: 0.7892 - val_loss: 0.8784 - val_accuracy: 0.6846\n",
      "Epoch 131/300\n",
      "1167/1167 [==============================] - 8s 7ms/sample - loss: 0.5227 - accuracy: 0.7892 - val_loss: 0.8726 - val_accuracy: 0.6846\n",
      "Epoch 132/300\n",
      "1167/1167 [==============================] - 8s 7ms/sample - loss: 0.5314 - accuracy: 0.7798 - val_loss: 0.8701 - val_accuracy: 0.6846\n",
      "Epoch 133/300\n",
      "1167/1167 [==============================] - 8s 7ms/sample - loss: 0.5179 - accuracy: 0.7935 - val_loss: 0.8735 - val_accuracy: 0.6846\n",
      "Epoch 134/300\n",
      "1167/1167 [==============================] - 8s 7ms/sample - loss: 0.5186 - accuracy: 0.7892 - val_loss: 0.8739 - val_accuracy: 0.6846\n",
      "Epoch 135/300\n",
      "1167/1167 [==============================] - 8s 7ms/sample - loss: 0.5144 - accuracy: 0.7901 - val_loss: 0.8739 - val_accuracy: 0.6846\n",
      "Epoch 136/300\n",
      "1167/1167 [==============================] - 8s 7ms/sample - loss: 0.5173 - accuracy: 0.7961 - val_loss: 0.8731 - val_accuracy: 0.6846\n",
      "Epoch 137/300\n",
      "1167/1167 [==============================] - 8s 7ms/sample - loss: 0.5177 - accuracy: 0.7918 - val_loss: 0.8662 - val_accuracy: 0.6846\n",
      "Epoch 138/300\n",
      "1167/1167 [==============================] - 8s 7ms/sample - loss: 0.5095 - accuracy: 0.7978 - val_loss: 0.8632 - val_accuracy: 0.6846\n",
      "Epoch 139/300\n",
      "1167/1167 [==============================] - 8s 7ms/sample - loss: 0.5196 - accuracy: 0.7746 - val_loss: 0.8681 - val_accuracy: 0.6846\n",
      "Epoch 140/300\n",
      "1167/1167 [==============================] - 8s 7ms/sample - loss: 0.5052 - accuracy: 0.8072 - val_loss: 0.8754 - val_accuracy: 0.6846\n",
      "Epoch 141/300\n",
      "1167/1167 [==============================] - 8s 7ms/sample - loss: 0.5039 - accuracy: 0.7866 - val_loss: 0.8676 - val_accuracy: 0.6846\n",
      "Epoch 142/300\n",
      "1167/1167 [==============================] - 8s 7ms/sample - loss: 0.5028 - accuracy: 0.8003 - val_loss: 0.8664 - val_accuracy: 0.6846\n",
      "Epoch 143/300\n",
      "1167/1167 [==============================] - 8s 7ms/sample - loss: 0.5092 - accuracy: 0.7909 - val_loss: 0.8642 - val_accuracy: 0.6846\n",
      "Epoch 144/300\n",
      "1167/1167 [==============================] - 8s 7ms/sample - loss: 0.5031 - accuracy: 0.7995 - val_loss: 0.8591 - val_accuracy: 0.6846\n",
      "Epoch 145/300\n",
      "1167/1167 [==============================] - 8s 7ms/sample - loss: 0.5137 - accuracy: 0.7883 - val_loss: 0.8577 - val_accuracy: 0.6846\n",
      "Epoch 146/300\n",
      "1167/1167 [==============================] - 8s 7ms/sample - loss: 0.4917 - accuracy: 0.8063 - val_loss: 0.8687 - val_accuracy: 0.6846\n",
      "Epoch 147/300\n",
      "1167/1167 [==============================] - 8s 7ms/sample - loss: 0.5141 - accuracy: 0.7952 - val_loss: 0.8698 - val_accuracy: 0.6846\n",
      "Epoch 148/300\n",
      "1167/1167 [==============================] - 8s 7ms/sample - loss: 0.5105 - accuracy: 0.8029 - val_loss: 0.8601 - val_accuracy: 0.6846\n",
      "Epoch 149/300\n",
      "1167/1167 [==============================] - 8s 7ms/sample - loss: 0.4962 - accuracy: 0.8055 - val_loss: 0.8679 - val_accuracy: 0.6846\n",
      "Epoch 150/300\n",
      "1167/1167 [==============================] - 8s 7ms/sample - loss: 0.5036 - accuracy: 0.8072 - val_loss: 0.8588 - val_accuracy: 0.6846\n",
      "Epoch 151/300\n",
      "1167/1167 [==============================] - 8s 7ms/sample - loss: 0.5173 - accuracy: 0.7952 - val_loss: 0.8557 - val_accuracy: 0.6846\n",
      "Epoch 152/300\n",
      "1167/1167 [==============================] - 8s 7ms/sample - loss: 0.5067 - accuracy: 0.7883 - val_loss: 0.8561 - val_accuracy: 0.6846\n",
      "Epoch 153/300\n",
      "1167/1167 [==============================] - 8s 7ms/sample - loss: 0.5044 - accuracy: 0.8046 - val_loss: 0.8560 - val_accuracy: 0.6846\n",
      "Epoch 154/300\n",
      "1167/1167 [==============================] - 8s 7ms/sample - loss: 0.4958 - accuracy: 0.8003 - val_loss: 0.8545 - val_accuracy: 0.6846\n",
      "Epoch 155/300\n",
      "1167/1167 [==============================] - 8s 7ms/sample - loss: 0.4976 - accuracy: 0.7995 - val_loss: 0.8469 - val_accuracy: 0.6846\n",
      "Epoch 156/300\n",
      "1167/1167 [==============================] - 8s 7ms/sample - loss: 0.4976 - accuracy: 0.7901 - val_loss: 0.8578 - val_accuracy: 0.6846\n",
      "Epoch 157/300\n",
      "1167/1167 [==============================] - 8s 7ms/sample - loss: 0.4945 - accuracy: 0.8089 - val_loss: 0.8569 - val_accuracy: 0.6846\n",
      "Epoch 158/300\n",
      "1167/1167 [==============================] - 8s 7ms/sample - loss: 0.5056 - accuracy: 0.8038 - val_loss: 0.8570 - val_accuracy: 0.6846\n",
      "Epoch 159/300\n",
      "1167/1167 [==============================] - 8s 7ms/sample - loss: 0.4917 - accuracy: 0.8072 - val_loss: 0.8571 - val_accuracy: 0.6846\n",
      "Epoch 160/300\n",
      "1167/1167 [==============================] - 8s 7ms/sample - loss: 0.4945 - accuracy: 0.8038 - val_loss: 0.8521 - val_accuracy: 0.6846\n",
      "Epoch 161/300\n",
      "1167/1167 [==============================] - 8s 7ms/sample - loss: 0.4863 - accuracy: 0.8072 - val_loss: 0.8469 - val_accuracy: 0.6846\n",
      "Epoch 162/300\n",
      "1167/1167 [==============================] - 8s 7ms/sample - loss: 0.5018 - accuracy: 0.7841 - val_loss: 0.8438 - val_accuracy: 0.6846\n",
      "Epoch 163/300\n",
      "1167/1167 [==============================] - 8s 7ms/sample - loss: 0.4966 - accuracy: 0.8081 - val_loss: 0.8443 - val_accuracy: 0.6846\n",
      "Epoch 164/300\n",
      "1167/1167 [==============================] - 8s 7ms/sample - loss: 0.4918 - accuracy: 0.8029 - val_loss: 0.8435 - val_accuracy: 0.6846\n",
      "Epoch 165/300\n",
      "1167/1167 [==============================] - 8s 7ms/sample - loss: 0.4930 - accuracy: 0.7995 - val_loss: 0.8437 - val_accuracy: 0.6846\n",
      "Epoch 166/300\n"
     ]
    },
    {
     "name": "stdout",
     "output_type": "stream",
     "text": [
      "1167/1167 [==============================] - 8s 7ms/sample - loss: 0.4950 - accuracy: 0.8089 - val_loss: 0.8477 - val_accuracy: 0.6846\n",
      "Epoch 167/300\n",
      "1167/1167 [==============================] - 8s 7ms/sample - loss: 0.4915 - accuracy: 0.8055 - val_loss: 0.8458 - val_accuracy: 0.6846\n",
      "Epoch 168/300\n",
      "1167/1167 [==============================] - 8s 7ms/sample - loss: 0.4790 - accuracy: 0.8166 - val_loss: 0.8533 - val_accuracy: 0.6846\n",
      "Epoch 169/300\n",
      "1167/1167 [==============================] - 8s 7ms/sample - loss: 0.5010 - accuracy: 0.7892 - val_loss: 0.8436 - val_accuracy: 0.6846\n",
      "Epoch 170/300\n",
      "1167/1167 [==============================] - 8s 7ms/sample - loss: 0.4878 - accuracy: 0.8175 - val_loss: 0.8518 - val_accuracy: 0.6846\n",
      "Epoch 171/300\n",
      "1167/1167 [==============================] - 8s 7ms/sample - loss: 0.4780 - accuracy: 0.8063 - val_loss: 0.8498 - val_accuracy: 0.6846\n",
      "Epoch 172/300\n",
      "1167/1167 [==============================] - 8s 7ms/sample - loss: 0.4849 - accuracy: 0.8115 - val_loss: 0.8456 - val_accuracy: 0.6846\n",
      "Epoch 173/300\n",
      "1167/1167 [==============================] - 8s 7ms/sample - loss: 0.4899 - accuracy: 0.8106 - val_loss: 0.8438 - val_accuracy: 0.6846\n",
      "Epoch 174/300\n",
      "1167/1167 [==============================] - 8s 7ms/sample - loss: 0.4854 - accuracy: 0.8046 - val_loss: 0.8549 - val_accuracy: 0.6846\n",
      "Epoch 175/300\n",
      "1167/1167 [==============================] - 8s 7ms/sample - loss: 0.5015 - accuracy: 0.8046 - val_loss: 0.8563 - val_accuracy: 0.6846\n",
      "Epoch 176/300\n",
      "1167/1167 [==============================] - 8s 7ms/sample - loss: 0.4920 - accuracy: 0.8012 - val_loss: 0.8604 - val_accuracy: 0.6846\n",
      "Epoch 177/300\n",
      "1167/1167 [==============================] - 8s 7ms/sample - loss: 0.4828 - accuracy: 0.8012 - val_loss: 0.8599 - val_accuracy: 0.6846\n",
      "Epoch 178/300\n",
      "1167/1167 [==============================] - 8s 7ms/sample - loss: 0.4850 - accuracy: 0.8072 - val_loss: 0.8597 - val_accuracy: 0.6846\n",
      "Epoch 179/300\n",
      "1167/1167 [==============================] - 8s 7ms/sample - loss: 0.4902 - accuracy: 0.8081 - val_loss: 0.8536 - val_accuracy: 0.6846\n",
      "Epoch 180/300\n",
      "1167/1167 [==============================] - 8s 7ms/sample - loss: 0.4852 - accuracy: 0.8098 - val_loss: 0.8568 - val_accuracy: 0.6846\n",
      "Epoch 181/300\n",
      "1167/1167 [==============================] - 8s 7ms/sample - loss: 0.4780 - accuracy: 0.8192 - val_loss: 0.8467 - val_accuracy: 0.6846\n",
      "Epoch 182/300\n",
      "1167/1167 [==============================] - 8s 7ms/sample - loss: 0.4746 - accuracy: 0.8081 - val_loss: 0.8470 - val_accuracy: 0.6846\n",
      "Epoch 183/300\n",
      "1167/1167 [==============================] - 8s 7ms/sample - loss: 0.4884 - accuracy: 0.8038 - val_loss: 0.8446 - val_accuracy: 0.6923\n",
      "Epoch 184/300\n",
      "1167/1167 [==============================] - 8s 7ms/sample - loss: 0.4588 - accuracy: 0.8235 - val_loss: 0.8411 - val_accuracy: 0.6846\n",
      "Epoch 185/300\n",
      "1167/1167 [==============================] - 8s 7ms/sample - loss: 0.4568 - accuracy: 0.8166 - val_loss: 0.8433 - val_accuracy: 0.6846\n",
      "Epoch 186/300\n",
      "1167/1167 [==============================] - 8s 7ms/sample - loss: 0.4718 - accuracy: 0.8201 - val_loss: 0.8358 - val_accuracy: 0.6923\n",
      "Epoch 187/300\n",
      "1167/1167 [==============================] - 8s 7ms/sample - loss: 0.4751 - accuracy: 0.8012 - val_loss: 0.8459 - val_accuracy: 0.6846\n",
      "Epoch 188/300\n",
      "1167/1167 [==============================] - 8s 7ms/sample - loss: 0.4769 - accuracy: 0.8175 - val_loss: 0.8458 - val_accuracy: 0.6846\n",
      "Epoch 189/300\n",
      "1167/1167 [==============================] - 8s 7ms/sample - loss: 0.4615 - accuracy: 0.8132 - val_loss: 0.8500 - val_accuracy: 0.6846\n",
      "Epoch 190/300\n",
      "1167/1167 [==============================] - 8s 7ms/sample - loss: 0.4669 - accuracy: 0.8235 - val_loss: 0.8425 - val_accuracy: 0.6846\n",
      "Epoch 191/300\n",
      "1167/1167 [==============================] - 8s 7ms/sample - loss: 0.4745 - accuracy: 0.8089 - val_loss: 0.8400 - val_accuracy: 0.6846\n",
      "Epoch 192/300\n",
      "1167/1167 [==============================] - 8s 7ms/sample - loss: 0.4626 - accuracy: 0.7995 - val_loss: 0.8479 - val_accuracy: 0.6846\n",
      "Epoch 193/300\n",
      "1167/1167 [==============================] - 8s 7ms/sample - loss: 0.4720 - accuracy: 0.8132 - val_loss: 0.8385 - val_accuracy: 0.6846\n",
      "Epoch 194/300\n",
      "1167/1167 [==============================] - 8s 7ms/sample - loss: 0.4576 - accuracy: 0.8132 - val_loss: 0.8413 - val_accuracy: 0.6923\n",
      "Epoch 195/300\n",
      "1167/1167 [==============================] - 8s 7ms/sample - loss: 0.4893 - accuracy: 0.7961 - val_loss: 0.8494 - val_accuracy: 0.6846\n",
      "Epoch 196/300\n",
      "1167/1167 [==============================] - 8s 7ms/sample - loss: 0.4532 - accuracy: 0.8252 - val_loss: 0.8396 - val_accuracy: 0.6846\n",
      "Epoch 197/300\n",
      "1167/1167 [==============================] - 8s 7ms/sample - loss: 0.4653 - accuracy: 0.8226 - val_loss: 0.8358 - val_accuracy: 0.6846\n",
      "Epoch 198/300\n",
      "1167/1167 [==============================] - 8s 7ms/sample - loss: 0.4637 - accuracy: 0.8149 - val_loss: 0.8366 - val_accuracy: 0.6923\n",
      "Epoch 199/300\n",
      "1167/1167 [==============================] - 8s 7ms/sample - loss: 0.4706 - accuracy: 0.8106 - val_loss: 0.8438 - val_accuracy: 0.6923\n",
      "Epoch 200/300\n",
      "1167/1167 [==============================] - 8s 7ms/sample - loss: 0.4600 - accuracy: 0.8115 - val_loss: 0.8468 - val_accuracy: 0.6923\n",
      "Epoch 201/300\n",
      "1167/1167 [==============================] - 8s 7ms/sample - loss: 0.4507 - accuracy: 0.8286 - val_loss: 0.8475 - val_accuracy: 0.6846\n",
      "Epoch 202/300\n",
      "1167/1167 [==============================] - 8s 7ms/sample - loss: 0.4567 - accuracy: 0.8175 - val_loss: 0.8535 - val_accuracy: 0.6846\n",
      "Epoch 203/300\n",
      "1167/1167 [==============================] - 8s 7ms/sample - loss: 0.4762 - accuracy: 0.8063 - val_loss: 0.8475 - val_accuracy: 0.6846\n",
      "Epoch 204/300\n",
      "1167/1167 [==============================] - 8s 7ms/sample - loss: 0.4522 - accuracy: 0.8115 - val_loss: 0.8530 - val_accuracy: 0.6846\n",
      "Epoch 205/300\n",
      "1167/1167 [==============================] - 8s 7ms/sample - loss: 0.4400 - accuracy: 0.8226 - val_loss: 0.8468 - val_accuracy: 0.6923\n",
      "Epoch 206/300\n",
      "1167/1167 [==============================] - 8s 7ms/sample - loss: 0.4673 - accuracy: 0.8132 - val_loss: 0.8515 - val_accuracy: 0.6846\n",
      "Epoch 207/300\n",
      "1167/1167 [==============================] - 8s 7ms/sample - loss: 0.4541 - accuracy: 0.8141 - val_loss: 0.8403 - val_accuracy: 0.6846\n",
      "Epoch 208/300\n",
      "1167/1167 [==============================] - 8s 7ms/sample - loss: 0.4570 - accuracy: 0.8115 - val_loss: 0.8424 - val_accuracy: 0.6923\n",
      "Epoch 209/300\n",
      "1167/1167 [==============================] - 8s 7ms/sample - loss: 0.4626 - accuracy: 0.8218 - val_loss: 0.8389 - val_accuracy: 0.6923\n",
      "Epoch 210/300\n",
      "1167/1167 [==============================] - 8s 7ms/sample - loss: 0.4576 - accuracy: 0.8235 - val_loss: 0.8381 - val_accuracy: 0.6923\n",
      "Epoch 211/300\n",
      "1167/1167 [==============================] - 8s 7ms/sample - loss: 0.4542 - accuracy: 0.8192 - val_loss: 0.8366 - val_accuracy: 0.6923\n",
      "Epoch 212/300\n",
      "1167/1167 [==============================] - 8s 7ms/sample - loss: 0.4637 - accuracy: 0.8149 - val_loss: 0.8332 - val_accuracy: 0.6923\n",
      "Epoch 213/300\n",
      "1167/1167 [==============================] - 8s 7ms/sample - loss: 0.4381 - accuracy: 0.8363 - val_loss: 0.8438 - val_accuracy: 0.6923\n",
      "Epoch 214/300\n",
      "1167/1167 [==============================] - 8s 7ms/sample - loss: 0.4401 - accuracy: 0.8398 - val_loss: 0.8459 - val_accuracy: 0.6923\n",
      "Epoch 215/300\n",
      "1167/1167 [==============================] - 8s 7ms/sample - loss: 0.4345 - accuracy: 0.8389 - val_loss: 0.8418 - val_accuracy: 0.6923\n",
      "Epoch 216/300\n",
      "1167/1167 [==============================] - 8s 7ms/sample - loss: 0.4454 - accuracy: 0.8209 - val_loss: 0.8370 - val_accuracy: 0.6923\n",
      "Epoch 217/300\n",
      "1167/1167 [==============================] - 8s 7ms/sample - loss: 0.4457 - accuracy: 0.8226 - val_loss: 0.8380 - val_accuracy: 0.6923\n",
      "Epoch 218/300\n",
      "1167/1167 [==============================] - 8s 7ms/sample - loss: 0.4534 - accuracy: 0.8252 - val_loss: 0.8393 - val_accuracy: 0.6923\n",
      "Epoch 219/300\n",
      "1167/1167 [==============================] - 8s 7ms/sample - loss: 0.4541 - accuracy: 0.8192 - val_loss: 0.8532 - val_accuracy: 0.6923\n",
      "Epoch 220/300\n",
      "1167/1167 [==============================] - 8s 7ms/sample - loss: 0.4489 - accuracy: 0.8149 - val_loss: 0.8418 - val_accuracy: 0.6923\n",
      "Epoch 221/300\n"
     ]
    },
    {
     "name": "stdout",
     "output_type": "stream",
     "text": [
      "1167/1167 [==============================] - 8s 7ms/sample - loss: 0.4495 - accuracy: 0.8320 - val_loss: 0.8358 - val_accuracy: 0.6923\n",
      "Epoch 222/300\n",
      "1167/1167 [==============================] - 8s 7ms/sample - loss: 0.4522 - accuracy: 0.8243 - val_loss: 0.8385 - val_accuracy: 0.6923\n",
      "Epoch 223/300\n",
      "1167/1167 [==============================] - 8s 7ms/sample - loss: 0.4350 - accuracy: 0.8260 - val_loss: 0.8515 - val_accuracy: 0.6923\n",
      "Epoch 224/300\n",
      "1167/1167 [==============================] - 8s 7ms/sample - loss: 0.4516 - accuracy: 0.8235 - val_loss: 0.8506 - val_accuracy: 0.6923\n",
      "Epoch 225/300\n",
      "1167/1167 [==============================] - 8s 7ms/sample - loss: 0.4540 - accuracy: 0.8132 - val_loss: 0.8440 - val_accuracy: 0.6923\n",
      "Epoch 226/300\n",
      "1167/1167 [==============================] - 8s 7ms/sample - loss: 0.4369 - accuracy: 0.8226 - val_loss: 0.8374 - val_accuracy: 0.6923\n",
      "Epoch 227/300\n",
      "1167/1167 [==============================] - 8s 7ms/sample - loss: 0.4467 - accuracy: 0.8158 - val_loss: 0.8459 - val_accuracy: 0.6923\n",
      "Epoch 228/300\n",
      "1167/1167 [==============================] - 8s 7ms/sample - loss: 0.4409 - accuracy: 0.8235 - val_loss: 0.8432 - val_accuracy: 0.6923\n",
      "Epoch 229/300\n",
      "1167/1167 [==============================] - 8s 7ms/sample - loss: 0.4291 - accuracy: 0.8312 - val_loss: 0.8353 - val_accuracy: 0.6923\n",
      "Epoch 230/300\n",
      "1167/1167 [==============================] - 8s 7ms/sample - loss: 0.4363 - accuracy: 0.8252 - val_loss: 0.8460 - val_accuracy: 0.6923\n",
      "Epoch 231/300\n",
      "1167/1167 [==============================] - 8s 7ms/sample - loss: 0.4452 - accuracy: 0.8295 - val_loss: 0.8494 - val_accuracy: 0.6923\n",
      "Epoch 232/300\n",
      "1167/1167 [==============================] - 8s 7ms/sample - loss: 0.4344 - accuracy: 0.8260 - val_loss: 0.8527 - val_accuracy: 0.6923\n",
      "Epoch 233/300\n",
      "1167/1167 [==============================] - 8s 7ms/sample - loss: 0.4362 - accuracy: 0.8303 - val_loss: 0.8480 - val_accuracy: 0.6923\n",
      "Epoch 234/300\n",
      "1167/1167 [==============================] - 8s 7ms/sample - loss: 0.4381 - accuracy: 0.8295 - val_loss: 0.8509 - val_accuracy: 0.6923\n",
      "Epoch 235/300\n",
      "1167/1167 [==============================] - 8s 7ms/sample - loss: 0.4298 - accuracy: 0.8372 - val_loss: 0.8458 - val_accuracy: 0.6923\n",
      "Epoch 236/300\n",
      "1167/1167 [==============================] - 8s 7ms/sample - loss: 0.4360 - accuracy: 0.8338 - val_loss: 0.8491 - val_accuracy: 0.6846\n",
      "Epoch 237/300\n",
      "1167/1167 [==============================] - 8s 7ms/sample - loss: 0.4297 - accuracy: 0.8286 - val_loss: 0.8481 - val_accuracy: 0.6923\n",
      "Epoch 238/300\n",
      "1167/1167 [==============================] - 8s 7ms/sample - loss: 0.4308 - accuracy: 0.8338 - val_loss: 0.8511 - val_accuracy: 0.6923\n",
      "Epoch 239/300\n",
      "1167/1167 [==============================] - 8s 7ms/sample - loss: 0.4387 - accuracy: 0.8355 - val_loss: 0.8396 - val_accuracy: 0.6923\n",
      "Epoch 240/300\n",
      "1167/1167 [==============================] - 8s 7ms/sample - loss: 0.4349 - accuracy: 0.8312 - val_loss: 0.8366 - val_accuracy: 0.6923\n",
      "Epoch 241/300\n",
      "1167/1167 [==============================] - 8s 7ms/sample - loss: 0.4377 - accuracy: 0.8252 - val_loss: 0.8359 - val_accuracy: 0.6923\n",
      "Epoch 242/300\n",
      "1167/1167 [==============================] - 8s 7ms/sample - loss: 0.4379 - accuracy: 0.8320 - val_loss: 0.8341 - val_accuracy: 0.6923\n",
      "Epoch 243/300\n",
      "1167/1167 [==============================] - 8s 7ms/sample - loss: 0.4372 - accuracy: 0.8320 - val_loss: 0.8357 - val_accuracy: 0.6923\n",
      "Epoch 244/300\n",
      "1167/1167 [==============================] - 8s 7ms/sample - loss: 0.4252 - accuracy: 0.8363 - val_loss: 0.8354 - val_accuracy: 0.6923\n",
      "Epoch 245/300\n",
      "1167/1167 [==============================] - 8s 7ms/sample - loss: 0.4234 - accuracy: 0.8269 - val_loss: 0.8325 - val_accuracy: 0.6923\n",
      "Epoch 246/300\n",
      "1167/1167 [==============================] - 8s 7ms/sample - loss: 0.4336 - accuracy: 0.8329 - val_loss: 0.8393 - val_accuracy: 0.6923\n",
      "Epoch 247/300\n",
      "1167/1167 [==============================] - 8s 7ms/sample - loss: 0.4362 - accuracy: 0.8252 - val_loss: 0.8397 - val_accuracy: 0.6923\n",
      "Epoch 248/300\n",
      "1167/1167 [==============================] - 8s 7ms/sample - loss: 0.4298 - accuracy: 0.8312 - val_loss: 0.8365 - val_accuracy: 0.6923\n",
      "Epoch 249/300\n",
      "1167/1167 [==============================] - 8s 7ms/sample - loss: 0.4131 - accuracy: 0.8363 - val_loss: 0.8319 - val_accuracy: 0.6923\n",
      "Epoch 250/300\n",
      "1167/1167 [==============================] - 8s 7ms/sample - loss: 0.4163 - accuracy: 0.8363 - val_loss: 0.8348 - val_accuracy: 0.6923\n",
      "Epoch 251/300\n",
      "1167/1167 [==============================] - 8s 7ms/sample - loss: 0.4218 - accuracy: 0.8295 - val_loss: 0.8396 - val_accuracy: 0.6923\n",
      "Epoch 252/300\n",
      "1167/1167 [==============================] - 8s 7ms/sample - loss: 0.4287 - accuracy: 0.8338 - val_loss: 0.8405 - val_accuracy: 0.6923\n",
      "Epoch 253/300\n",
      "1167/1167 [==============================] - 8s 7ms/sample - loss: 0.4361 - accuracy: 0.8209 - val_loss: 0.8304 - val_accuracy: 0.6923\n",
      "Epoch 254/300\n",
      "1167/1167 [==============================] - 8s 7ms/sample - loss: 0.4381 - accuracy: 0.8286 - val_loss: 0.8373 - val_accuracy: 0.6923\n",
      "Epoch 255/300\n",
      "1167/1167 [==============================] - 8s 7ms/sample - loss: 0.4309 - accuracy: 0.8338 - val_loss: 0.8302 - val_accuracy: 0.6923\n",
      "Epoch 256/300\n",
      "1167/1167 [==============================] - 8s 7ms/sample - loss: 0.4245 - accuracy: 0.8320 - val_loss: 0.8306 - val_accuracy: 0.6923\n",
      "Epoch 257/300\n",
      "1167/1167 [==============================] - 8s 7ms/sample - loss: 0.4196 - accuracy: 0.8363 - val_loss: 0.8276 - val_accuracy: 0.6923\n",
      "Epoch 258/300\n",
      "1167/1167 [==============================] - 8s 7ms/sample - loss: 0.4135 - accuracy: 0.8312 - val_loss: 0.8386 - val_accuracy: 0.6923\n",
      "Epoch 259/300\n",
      "1167/1167 [==============================] - 8s 7ms/sample - loss: 0.4265 - accuracy: 0.8278 - val_loss: 0.8309 - val_accuracy: 0.6923\n",
      "Epoch 260/300\n",
      "1167/1167 [==============================] - 8s 7ms/sample - loss: 0.4074 - accuracy: 0.8329 - val_loss: 0.8311 - val_accuracy: 0.6923\n",
      "Epoch 261/300\n",
      "1167/1167 [==============================] - 8s 7ms/sample - loss: 0.4186 - accuracy: 0.8303 - val_loss: 0.8414 - val_accuracy: 0.6923\n",
      "Epoch 262/300\n",
      "1167/1167 [==============================] - 8s 7ms/sample - loss: 0.4043 - accuracy: 0.8380 - val_loss: 0.8333 - val_accuracy: 0.6923\n",
      "Epoch 263/300\n",
      "1167/1167 [==============================] - 8s 7ms/sample - loss: 0.4270 - accuracy: 0.8269 - val_loss: 0.8431 - val_accuracy: 0.6923\n",
      "Epoch 264/300\n",
      "1167/1167 [==============================] - 8s 7ms/sample - loss: 0.4103 - accuracy: 0.8338 - val_loss: 0.8321 - val_accuracy: 0.6923\n",
      "Epoch 265/300\n",
      "1167/1167 [==============================] - 8s 7ms/sample - loss: 0.4183 - accuracy: 0.8346 - val_loss: 0.8322 - val_accuracy: 0.6923\n",
      "Epoch 266/300\n",
      "1167/1167 [==============================] - 8s 7ms/sample - loss: 0.4157 - accuracy: 0.8423 - val_loss: 0.8253 - val_accuracy: 0.6923\n",
      "Epoch 267/300\n",
      "1167/1167 [==============================] - 8s 7ms/sample - loss: 0.4099 - accuracy: 0.8355 - val_loss: 0.8288 - val_accuracy: 0.6923\n",
      "Epoch 268/300\n",
      "1167/1167 [==============================] - 8s 7ms/sample - loss: 0.4170 - accuracy: 0.8338 - val_loss: 0.8324 - val_accuracy: 0.6923\n",
      "Epoch 269/300\n",
      "1167/1167 [==============================] - 8s 7ms/sample - loss: 0.3905 - accuracy: 0.8475 - val_loss: 0.8368 - val_accuracy: 0.6923\n",
      "Epoch 270/300\n",
      "1167/1167 [==============================] - 8s 7ms/sample - loss: 0.4272 - accuracy: 0.8269 - val_loss: 0.8347 - val_accuracy: 0.6923\n",
      "Epoch 271/300\n",
      "1167/1167 [==============================] - 8s 7ms/sample - loss: 0.4064 - accuracy: 0.8363 - val_loss: 0.8380 - val_accuracy: 0.6923\n",
      "Epoch 272/300\n",
      "1167/1167 [==============================] - 8s 7ms/sample - loss: 0.4067 - accuracy: 0.8363 - val_loss: 0.8355 - val_accuracy: 0.6923\n",
      "Epoch 273/300\n",
      "1167/1167 [==============================] - 8s 7ms/sample - loss: 0.4021 - accuracy: 0.8406 - val_loss: 0.8363 - val_accuracy: 0.6846\n",
      "Epoch 274/300\n",
      "1167/1167 [==============================] - 8s 7ms/sample - loss: 0.4065 - accuracy: 0.8398 - val_loss: 0.8460 - val_accuracy: 0.6846\n",
      "Epoch 275/300\n",
      "1167/1167 [==============================] - 8s 7ms/sample - loss: 0.4033 - accuracy: 0.8338 - val_loss: 0.8369 - val_accuracy: 0.6846\n",
      "Epoch 276/300\n"
     ]
    },
    {
     "name": "stdout",
     "output_type": "stream",
     "text": [
      "1167/1167 [==============================] - 8s 7ms/sample - loss: 0.4105 - accuracy: 0.8329 - val_loss: 0.8298 - val_accuracy: 0.6923\n",
      "Epoch 277/300\n",
      "1167/1167 [==============================] - 8s 7ms/sample - loss: 0.4141 - accuracy: 0.8398 - val_loss: 0.8260 - val_accuracy: 0.6923\n",
      "Epoch 278/300\n",
      "1167/1167 [==============================] - 8s 7ms/sample - loss: 0.4013 - accuracy: 0.8398 - val_loss: 0.8392 - val_accuracy: 0.6846\n",
      "Epoch 279/300\n",
      "1167/1167 [==============================] - 8s 7ms/sample - loss: 0.4003 - accuracy: 0.8380 - val_loss: 0.8338 - val_accuracy: 0.6923\n",
      "Epoch 280/300\n",
      "1167/1167 [==============================] - 8s 7ms/sample - loss: 0.4059 - accuracy: 0.8363 - val_loss: 0.8327 - val_accuracy: 0.6923\n",
      "Epoch 281/300\n",
      "1167/1167 [==============================] - 8s 7ms/sample - loss: 0.4127 - accuracy: 0.8320 - val_loss: 0.8327 - val_accuracy: 0.6923\n",
      "Epoch 282/300\n",
      "1167/1167 [==============================] - 8s 7ms/sample - loss: 0.4180 - accuracy: 0.8320 - val_loss: 0.8337 - val_accuracy: 0.6923\n",
      "Epoch 283/300\n",
      "1167/1167 [==============================] - 8s 7ms/sample - loss: 0.3981 - accuracy: 0.8432 - val_loss: 0.8428 - val_accuracy: 0.6923\n",
      "Epoch 284/300\n",
      "1167/1167 [==============================] - 8s 7ms/sample - loss: 0.4130 - accuracy: 0.8243 - val_loss: 0.8394 - val_accuracy: 0.6846\n",
      "Epoch 285/300\n",
      "1167/1167 [==============================] - 8s 7ms/sample - loss: 0.4130 - accuracy: 0.8423 - val_loss: 0.8379 - val_accuracy: 0.6923\n",
      "Epoch 286/300\n",
      "1167/1167 [==============================] - 8s 7ms/sample - loss: 0.4021 - accuracy: 0.8440 - val_loss: 0.8337 - val_accuracy: 0.6923\n",
      "Epoch 287/300\n",
      "1167/1167 [==============================] - 8s 7ms/sample - loss: 0.3881 - accuracy: 0.8380 - val_loss: 0.8489 - val_accuracy: 0.6846\n",
      "Epoch 288/300\n",
      "1167/1167 [==============================] - 8s 7ms/sample - loss: 0.3977 - accuracy: 0.8372 - val_loss: 0.8446 - val_accuracy: 0.6846\n",
      "Epoch 289/300\n",
      "1167/1167 [==============================] - 8s 7ms/sample - loss: 0.3964 - accuracy: 0.8466 - val_loss: 0.8447 - val_accuracy: 0.6846\n",
      "Epoch 290/300\n",
      "1167/1167 [==============================] - 8s 7ms/sample - loss: 0.3796 - accuracy: 0.8518 - val_loss: 0.8466 - val_accuracy: 0.6846\n",
      "Epoch 291/300\n",
      "1167/1167 [==============================] - 8s 7ms/sample - loss: 0.3901 - accuracy: 0.8432 - val_loss: 0.8370 - val_accuracy: 0.6846\n",
      "Epoch 292/300\n",
      "1167/1167 [==============================] - 8s 7ms/sample - loss: 0.3886 - accuracy: 0.8475 - val_loss: 0.8352 - val_accuracy: 0.6923\n",
      "Epoch 293/300\n",
      "1167/1167 [==============================] - 8s 7ms/sample - loss: 0.4007 - accuracy: 0.8440 - val_loss: 0.8380 - val_accuracy: 0.6846\n",
      "Epoch 294/300\n",
      "1167/1167 [==============================] - 8s 7ms/sample - loss: 0.4010 - accuracy: 0.8483 - val_loss: 0.8366 - val_accuracy: 0.6846\n",
      "Epoch 295/300\n",
      "1167/1167 [==============================] - 8s 7ms/sample - loss: 0.3947 - accuracy: 0.8509 - val_loss: 0.8416 - val_accuracy: 0.6846\n",
      "Epoch 296/300\n",
      "1167/1167 [==============================] - 8s 7ms/sample - loss: 0.3979 - accuracy: 0.8406 - val_loss: 0.8416 - val_accuracy: 0.6846\n",
      "Epoch 297/300\n",
      "1167/1167 [==============================] - 8s 7ms/sample - loss: 0.4102 - accuracy: 0.8346 - val_loss: 0.8409 - val_accuracy: 0.6846\n",
      "Epoch 298/300\n",
      "1167/1167 [==============================] - 8s 7ms/sample - loss: 0.3836 - accuracy: 0.8449 - val_loss: 0.8280 - val_accuracy: 0.6846\n",
      "Epoch 299/300\n",
      "1167/1167 [==============================] - 8s 7ms/sample - loss: 0.3868 - accuracy: 0.8560 - val_loss: 0.8412 - val_accuracy: 0.6846\n",
      "Epoch 300/300\n",
      "1167/1167 [==============================] - 8s 7ms/sample - loss: 0.3927 - accuracy: 0.8440 - val_loss: 0.8383 - val_accuracy: 0.6846\n"
     ]
    }
   ],
   "source": [
    "# Unfreeze the base model\n",
    "base_model.trainable = True\n",
    "\n",
    "# It's important to recompile your model after you make any changes\n",
    "# to the `trainable` attribute of any inner layer, so that your changes\n",
    "# are take into account\n",
    "optimizer = tf.keras.optimizers.Adam(1e-7)\n",
    "model.compile(\n",
    "    optimizer=optimizer,\n",
    "    loss=loss_fn,\n",
    "    metrics=['accuracy']\n",
    ")\n",
    "\n",
    "\n",
    "# Train end-to-end. Be careful to stop before you overfit!\n",
    "m_ = model.fit(x= data_, y = to_categorical(new_labels), epochs=300, validation_split=.1)"
   ]
  },
  {
   "cell_type": "code",
   "execution_count": 87,
   "metadata": {},
   "outputs": [
    {
     "data": {
      "text/plain": [
       "(1297, 4)"
      ]
     },
     "execution_count": 87,
     "metadata": {},
     "output_type": "execute_result"
    }
   ],
   "source": [
    "deep_prediction = m_.model.predict(data_)\n",
    "deep_prediction.shape"
   ]
  },
  {
   "cell_type": "code",
   "execution_count": 80,
   "metadata": {},
   "outputs": [
    {
     "data": {
      "text/plain": [
       "Text(0, 0.5, 'accuracy')"
      ]
     },
     "execution_count": 80,
     "metadata": {},
     "output_type": "execute_result"
    },
    {
     "data": {
      "image/png": "[encoded data removed]",
      "text/plain": [
       "<Figure size 432x288 with 1 Axes>"
      ]
     },
     "metadata": {
      "needs_background": "light"
     },
     "output_type": "display_data"
    }
   ],
   "source": [
    "plt.plot(m_.history['accuracy'])\n",
    "plt.plot(m_.history['val_accuracy'])\n",
    "plt.ylim([0, 1])\n",
    "plt.xlabel('epochs')\n",
    "plt.ylabel('accuracy')"
   ]
  },
  {
   "cell_type": "markdown",
   "metadata": {},
   "source": [
    "### Comparison\n",
    "\n",
    "\n",
    "As we see from above graph model after 300 epoch stop learning and reached to ~69% accuracy on validation data.   \n",
    "Comparing xgboost classifier and Xception model, we got much higher accuracy using machine learning classifier (xgboost) ~84%."
   ]
  }
 ],
 "metadata": {
  "kernelspec": {
   "display_name": "Python 3",
   "language": "python",
   "name": "python3"
  },
  "language_info": {
   "codemirror_mode": {
    "name": "ipython",
    "version": 3
   },
   "file_extension": ".py",
   "mimetype": "text/x-python",
   "name": "python",
   "nbconvert_exporter": "python",
   "pygments_lexer": "ipython3",
   "version": "3.6.10"
  }
 },
 "nbformat": 4,
 "nbformat_minor": 2
}
